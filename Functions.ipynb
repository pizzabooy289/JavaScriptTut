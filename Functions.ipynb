{
 "cells": [
  {
   "cell_type": "markdown",
   "id": "fed651ef",
   "metadata": {},
   "source": [
    "# Types of Functions"
   ]
  },
  {
   "cell_type": "markdown",
   "id": "0d25417a",
   "metadata": {},
   "source": [
    "### Constructor Function"
   ]
  },
  {
   "cell_type": "code",
   "execution_count": 2,
   "id": "f5e9931e",
   "metadata": {},
   "outputs": [],
   "source": [
    "var add = new Function('x', 'y', 'return x + y');"
   ]
  },
  {
   "cell_type": "code",
   "execution_count": 4,
   "id": "4ceb556e",
   "metadata": {},
   "outputs": [
    {
     "name": "stdout",
     "output_type": "stream",
     "text": [
      "11\n"
     ]
    }
   ],
   "source": [
    "console.log ( add(7, 4) );"
   ]
  },
  {
   "cell_type": "markdown",
   "id": "5a9f38cb",
   "metadata": {},
   "source": [
    "### Declaration Function"
   ]
  },
  {
   "cell_type": "markdown",
   "id": "0caf200f",
   "metadata": {},
   "source": [
    "A function declaration of a function named multiply:"
   ]
  },
  {
   "cell_type": "code",
   "execution_count": 5,
   "id": "2a9f19c4",
   "metadata": {},
   "outputs": [],
   "source": [
    "function mult(x, y) {\n",
    "   return x * y;\n",
    "};"
   ]
  },
  {
   "cell_type": "code",
   "execution_count": 6,
   "id": "705ebbb8",
   "metadata": {},
   "outputs": [
    {
     "name": "stdout",
     "output_type": "stream",
     "text": [
      "15\n"
     ]
    }
   ],
   "source": [
    "console.log ( mult(3, 5) );"
   ]
  },
  {
   "cell_type": "markdown",
   "id": "4fe599b2",
   "metadata": {},
   "source": [
    "### Expression Function "
   ]
  },
  {
   "cell_type": "markdown",
   "id": "bc8ed804",
   "metadata": {},
   "source": [
    "A function expression of an anonymous function assigned to the variable multiply:"
   ]
  },
  {
   "cell_type": "code",
   "execution_count": 7,
   "id": "c166eb25",
   "metadata": {},
   "outputs": [],
   "source": [
    "var substract = function(x, y) {\n",
    "   return x - y;\n",
    "};"
   ]
  },
  {
   "cell_type": "code",
   "execution_count": 8,
   "id": "72bb5a04",
   "metadata": {},
   "outputs": [
    {
     "name": "stdout",
     "output_type": "stream",
     "text": [
      "5\n"
     ]
    }
   ],
   "source": [
    "console.log ( substract(9, 4) );"
   ]
  },
  {
   "cell_type": "markdown",
   "id": "d70dcc50",
   "metadata": {},
   "source": [
    "# IIFE (Immediately Invoked Function Expression) "
   ]
  },
  {
   "cell_type": "markdown",
   "id": "1e891775",
   "metadata": {},
   "source": [
    "An Immediately-invoked Function Expression is a way to execute functions immediately, as soon as they are created."
   ]
  },
  {
   "cell_type": "code",
   "execution_count": 19,
   "id": "b30aad17",
   "metadata": {},
   "outputs": [
    {
     "name": "stdout",
     "output_type": "stream",
     "text": [
      "58\n"
     ]
    }
   ],
   "source": [
    "result = (function(a, b){\n",
    "    return a - b;\n",
    "})(100, 42);\n",
    "\n",
    "console.log(result);"
   ]
  },
  {
   "cell_type": "markdown",
   "id": "ccbcfa0f",
   "metadata": {},
   "source": [
    "# Closure"
   ]
  },
  {
   "cell_type": "markdown",
   "id": "0b4822e6",
   "metadata": {},
   "source": [
    "In JavaScript, a closure is a function that references variables in the outer scope from its inner scope. The closure\n",
    "preserves the outer scope inside its inner scope."
   ]
  },
  {
   "cell_type": "code",
   "execution_count": 23,
   "id": "16ad629a",
   "metadata": {},
   "outputs": [],
   "source": [
    "// Because this function returns another function that has access to the\n",
    "// \"private\" var i, the returned function is, effectively, \"privileged.\"\n",
    "\n",
    "function makeCounter() {\n",
    "    // `i` is only accessible inside `makeCounter`.\n",
    "    var i = 0;\n",
    " \n",
    "    return function() {\n",
    "        console.log( ++i );\n",
    "    };\n",
    "}"
   ]
  },
  {
   "cell_type": "code",
   "execution_count": 24,
   "id": "7d2adcc4",
   "metadata": {},
   "outputs": [
    {
     "name": "stdout",
     "output_type": "stream",
     "text": [
      "1\n",
      "2\n"
     ]
    }
   ],
   "source": [
    "// Note that `counter` and `counter2` each have their own scoped `i`.\n",
    "var counter = makeCounter();\n",
    "counter(); // logs: 1\n",
    "counter(); // logs: 2"
   ]
  },
  {
   "cell_type": "code",
   "execution_count": 25,
   "id": "da673e5e",
   "metadata": {},
   "outputs": [
    {
     "name": "stdout",
     "output_type": "stream",
     "text": [
      "1\n",
      "2\n"
     ]
    }
   ],
   "source": [
    "var counter2 = makeCounter();\n",
    "counter2(); // logs: 1\n",
    "counter2(); // logs: 2"
   ]
  },
  {
   "cell_type": "code",
   "execution_count": 14,
   "id": "bb4b818a",
   "metadata": {},
   "outputs": [
    {
     "name": "stdout",
     "output_type": "stream",
     "text": [
      "undefined\n"
     ]
    }
   ],
   "source": [
    "console.log( typeof (i) ) ; // ReferenceError: i is not defined (it only exists inside makeCounter)"
   ]
  },
  {
   "cell_type": "markdown",
   "id": "8f58e2e1",
   "metadata": {},
   "source": [
    "#  Function in Object"
   ]
  },
  {
   "cell_type": "markdown",
   "id": "3e12b5fb",
   "metadata": {},
   "source": [
    "Define an object called bananas"
   ]
  },
  {
   "cell_type": "code",
   "execution_count": 20,
   "id": "c9b3e89f",
   "metadata": {},
   "outputs": [],
   "source": [
    "var bananas = {};"
   ]
  },
  {
   "cell_type": "markdown",
   "id": "0896c060",
   "metadata": {},
   "source": [
    "Defining Anonymous Fuction"
   ]
  },
  {
   "cell_type": "code",
   "execution_count": 21,
   "id": "f363d940",
   "metadata": {},
   "outputs": [
    {
     "data": {
      "text/plain": [
       "[Function (anonymous)]"
      ]
     },
     "execution_count": 21,
     "metadata": {},
     "output_type": "execute_result"
    }
   ],
   "source": [
    "// Define an function called count in object bananas\n",
    "bananas.count = function(){\n",
    "    return 10;\n",
    "};"
   ]
  },
  {
   "cell_type": "markdown",
   "id": "b56223d9",
   "metadata": {},
   "source": [
    "Define an object called fruits with function called count"
   ]
  },
  {
   "cell_type": "code",
   "execution_count": 22,
   "id": "b2a0b1f1",
   "metadata": {},
   "outputs": [],
   "source": [
    "var fruits = {\n",
    "  'bananas' : bananas.count\n",
    "};"
   ]
  },
  {
   "cell_type": "markdown",
   "id": "35e01826",
   "metadata": {},
   "source": [
    "### Two ways to call a function"
   ]
  },
  {
   "cell_type": "code",
   "execution_count": 25,
   "id": "aa243b98",
   "metadata": {},
   "outputs": [
    {
     "name": "stdout",
     "output_type": "stream",
     "text": [
      "10\n"
     ]
    }
   ],
   "source": [
    "var fruit_name = 'bananas';\n",
    "\n",
    "console.log( fruits[fruit_name]() );"
   ]
  },
  {
   "cell_type": "code",
   "execution_count": 24,
   "id": "deb384c4",
   "metadata": {},
   "outputs": [
    {
     "name": "stdout",
     "output_type": "stream",
     "text": [
      "10\n"
     ]
    }
   ],
   "source": [
    "console.log( fruits.bananas() );"
   ]
  },
  {
   "cell_type": "markdown",
   "id": "9971671b",
   "metadata": {},
   "source": [
    "# Callback Function"
   ]
  },
  {
   "cell_type": "markdown",
   "id": "dfc3c298",
   "metadata": {},
   "source": [
    "You know the parameters are for callback function but have not wrote the callback function until later. "
   ]
  },
  {
   "cell_type": "code",
   "execution_count": 2,
   "id": "bdb10e0e",
   "metadata": {},
   "outputs": [
    {
     "name": "stdout",
     "output_type": "stream",
     "text": [
      "10\n"
     ]
    }
   ],
   "source": [
    "function myDisplayer(some) {\n",
    "  console.log( some );\n",
    "}\n",
    "\n",
    "function myCalculator(num1, num2, myCallback) {\n",
    "  var sum = num1 + num2;\n",
    "  myCallback(sum);//Callback function\n",
    "}\n",
    "\n",
    "myCalculator(5, 5, myDisplayer);"
   ]
  },
  {
   "cell_type": "code",
   "execution_count": null,
   "id": "2728e425",
   "metadata": {},
   "outputs": [],
   "source": []
  }
 ],
 "metadata": {
  "kernelspec": {
   "display_name": "Javascript (Node.js)",
   "language": "javascript",
   "name": "javascript"
  },
  "language_info": {
   "file_extension": ".js",
   "mimetype": "application/javascript",
   "name": "javascript",
   "version": "14.18.0"
  }
 },
 "nbformat": 4,
 "nbformat_minor": 5
}
