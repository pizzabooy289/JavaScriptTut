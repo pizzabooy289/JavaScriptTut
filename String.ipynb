{
 "cells": [
  {
   "cell_type": "markdown",
   "id": "c8bcde51",
   "metadata": {},
   "source": [
    "# String Methods"
   ]
  },
  {
   "cell_type": "markdown",
   "id": "48f6e72d",
   "metadata": {},
   "source": [
    "## charAt() "
   ]
  },
  {
   "cell_type": "markdown",
   "id": "85c7a9cd",
   "metadata": {},
   "source": [
    "The String object's charAt() method returns a new string consisting of the single UTF-16 code unit located at the specified offset into the string."
   ]
  },
  {
   "cell_type": "markdown",
   "id": "cbdb795f",
   "metadata": {},
   "source": [
    "Return the first character of a string:"
   ]
  },
  {
   "cell_type": "code",
   "execution_count": 1,
   "id": "517743d8",
   "metadata": {},
   "outputs": [
    {
     "name": "stdout",
     "output_type": "stream",
     "text": [
      "H\n"
     ]
    }
   ],
   "source": [
    "var str = \"HELLO WORLD\";\n",
    "console.log( str.charAt(0) );    // Returns \"H\""
   ]
  },
  {
   "cell_type": "markdown",
   "id": "19d5b1ee",
   "metadata": {},
   "source": [
    "## charCodeAt()"
   ]
  },
  {
   "cell_type": "markdown",
   "id": "26a41ef4",
   "metadata": {},
   "source": [
    "The charCodeAt() method returns an integer between 0 and 65535 representing the UTF-16 code unit at the given index."
   ]
  },
  {
   "cell_type": "markdown",
   "id": "7a23c82d",
   "metadata": {},
   "source": [
    "Return the Unicode of the first character in a string (the Unicode value for \"H\"):"
   ]
  },
  {
   "cell_type": "code",
   "execution_count": 2,
   "id": "19c507b9",
   "metadata": {},
   "outputs": [
    {
     "name": "stdout",
     "output_type": "stream",
     "text": [
      "72\n"
     ]
    }
   ],
   "source": [
    "var str = \"HELLO WORLD\";\n",
    "console.log( str.charCodeAt(0) );     // Returns 72"
   ]
  },
  {
   "cell_type": "markdown",
   "id": "a0a96076",
   "metadata": {},
   "source": [
    "## concat()"
   ]
  },
  {
   "cell_type": "markdown",
   "id": "32b1a7b3",
   "metadata": {},
   "source": [
    "joins two or more strings."
   ]
  },
  {
   "cell_type": "code",
   "execution_count": 77,
   "id": "6f593997",
   "metadata": {},
   "outputs": [
    {
     "name": "stdout",
     "output_type": "stream",
     "text": [
      "Hello world!\n"
     ]
    }
   ],
   "source": [
    "var str1 = \"Hello \";\n",
    "var str2 = \"world!\";\n",
    "console.log( str1.concat(str2) );"
   ]
  },
  {
   "cell_type": "markdown",
   "id": "aae523cc",
   "metadata": {},
   "source": [
    "## constructor "
   ]
  },
  {
   "cell_type": "markdown",
   "id": "9d0f6705",
   "metadata": {},
   "source": [
    "The String constructor is used to create a new String object. When called instead as a function, it performs type conversion to a primitive string, which is usually more useful."
   ]
  },
  {
   "cell_type": "markdown",
   "id": "641bc7a8",
   "metadata": {},
   "source": [
    "returns the function that created the String prototype."
   ]
  },
  {
   "cell_type": "code",
   "execution_count": 6,
   "id": "7cc0e1cf",
   "metadata": {},
   "outputs": [
    {
     "name": "stdout",
     "output_type": "stream",
     "text": [
      "Type of: str = string\n",
      "Type of: str.constructor = function\n"
     ]
    }
   ],
   "source": [
    "var str = \"Hello World!\";\n",
    "\n",
    "console.log( \"Type of: str = \" + typeof str ); \n",
    "\n",
    "console.log( \"Type of: str.constructor = \" + typeof str.constructor );"
   ]
  },
  {
   "cell_type": "markdown",
   "id": "98542052",
   "metadata": {},
   "source": [
    "## endsWith()"
   ]
  },
  {
   "cell_type": "markdown",
   "id": "bf686082",
   "metadata": {},
   "source": [
    "Check if a string ends with."
   ]
  },
  {
   "cell_type": "code",
   "execution_count": 81,
   "id": "b20b0ab6",
   "metadata": {},
   "outputs": [
    {
     "name": "stdout",
     "output_type": "stream",
     "text": [
      "true\n",
      "false\n"
     ]
    }
   ],
   "source": [
    "var str = \"Hello world\";\n",
    "console.log( str.endsWith(\"world\") );   // Returns true\n",
    "console.log( str.endsWith(\"World\") );   // Returns false"
   ]
  },
  {
   "cell_type": "markdown",
   "id": "64631964",
   "metadata": {},
   "source": [
    "## fromCharCode()"
   ]
  },
  {
   "cell_type": "markdown",
   "id": "49f38651",
   "metadata": {},
   "source": [
    "Convert a Unicode number into a character."
   ]
  },
  {
   "cell_type": "code",
   "execution_count": 82,
   "id": "9ab84ac3",
   "metadata": {},
   "outputs": [
    {
     "name": "stdout",
     "output_type": "stream",
     "text": [
      "A\n"
     ]
    }
   ],
   "source": [
    "console.log( String.fromCharCode(65) );   // Returns \"A\""
   ]
  },
  {
   "cell_type": "markdown",
   "id": "c4c94fb8",
   "metadata": {},
   "source": [
    "## includes()"
   ]
  },
  {
   "cell_type": "markdown",
   "id": "82bbad17",
   "metadata": {},
   "source": [
    "Check if a string includes certain string. "
   ]
  },
  {
   "cell_type": "code",
   "execution_count": 83,
   "id": "ce706ee9",
   "metadata": {},
   "outputs": [
    {
     "name": "stdout",
     "output_type": "stream",
     "text": [
      "true\n"
     ]
    }
   ],
   "source": [
    "var str = \"Hello world, welcome to the universe.\";\n",
    "console.log( str.includes(\"world\") );   // Returns true"
   ]
  },
  {
   "cell_type": "markdown",
   "id": "ef662104",
   "metadata": {},
   "source": [
    "## indexOf()"
   ]
  },
  {
   "cell_type": "markdown",
   "id": "bc498742",
   "metadata": {},
   "source": [
    "Search for the first occurance certain String. Return index of position of the first character in the Character array. "
   ]
  },
  {
   "cell_type": "code",
   "execution_count": 4,
   "id": "3b66ef01",
   "metadata": {},
   "outputs": [
    {
     "name": "stdout",
     "output_type": "stream",
     "text": [
      "13\n",
      "-1\n"
     ]
    }
   ],
   "source": [
    "var str = \"Hello world, welcome to the universe. Was the welcome message.\";\n",
    "console.log( str.indexOf(\"welcome\") );   // Returns 13\n",
    "console.log( str.indexOf(\"Welcome\") );   // Returns -1"
   ]
  },
  {
   "cell_type": "markdown",
   "id": "a2a20bb0",
   "metadata": {},
   "source": [
    "## lastIndexOf()"
   ]
  },
  {
   "cell_type": "markdown",
   "id": "4dc0b3a7",
   "metadata": {},
   "source": [
    "Search a string for the last occurrence of certain String. Return index of position of the first character in the Character array. "
   ]
  },
  {
   "cell_type": "code",
   "execution_count": 85,
   "id": "db7da2d9",
   "metadata": {},
   "outputs": [
    {
     "name": "stdout",
     "output_type": "stream",
     "text": [
      "36\n",
      "-1\n"
     ]
    }
   ],
   "source": [
    "var str = \"Hello planet earth, you are a great planet.\";\n",
    "console.log( str.lastIndexOf(\"planet\") );   // Returns 36\n",
    "console.log( str.lastIndexOf(\"Planet\") );   // Returns -1"
   ]
  },
  {
   "cell_type": "markdown",
   "id": "5e4f3a06",
   "metadata": {},
   "source": [
    "## length"
   ]
  },
  {
   "cell_type": "markdown",
   "id": "46e1d942",
   "metadata": {},
   "source": [
    "Return the number of characters in a string."
   ]
  },
  {
   "cell_type": "code",
   "execution_count": 86,
   "id": "217591a5",
   "metadata": {},
   "outputs": [
    {
     "name": "stdout",
     "output_type": "stream",
     "text": [
      "12\n"
     ]
    }
   ],
   "source": [
    "var str = \"Hello World!\";\n",
    "console.log( str.length );   // Returns 12"
   ]
  },
  {
   "cell_type": "markdown",
   "id": "1111ee94",
   "metadata": {},
   "source": [
    "## localeCompare()"
   ]
  },
  {
   "cell_type": "markdown",
   "id": "7412da89",
   "metadata": {},
   "source": [
    "A Number, indicating whether the reference string comes before, after or is the same as the compareString in sort \n",
    "order. Returns one of three values:\n",
    "\n",
    "* -1 if the reference string is sorted before the compareString\n",
    "* 0 if the two strings are equal\n",
    "* 1 if the reference string is sorted after the compareString"
   ]
  },
  {
   "cell_type": "code",
   "execution_count": 87,
   "id": "063a0f2a",
   "metadata": {},
   "outputs": [
    {
     "name": "stdout",
     "output_type": "stream",
     "text": [
      "-1\n",
      "0\n",
      "1\n"
     ]
    }
   ],
   "source": [
    "var str1 = \"ab\";\n",
    "var str2 = \"cd\";\n",
    "\n",
    "console.log( str1.localeCompare(str2) );\n",
    "console.log( str2.localeCompare(str2) );\n",
    "console.log( str2.localeCompare(str1) );"
   ]
  },
  {
   "cell_type": "markdown",
   "id": "c7f89210",
   "metadata": {},
   "source": [
    "## match()"
   ]
  },
  {
   "cell_type": "markdown",
   "id": "7a0814cb",
   "metadata": {},
   "source": [
    "Search for the same pattern in string using Regualar Expressions. "
   ]
  },
  {
   "cell_type": "code",
   "execution_count": 88,
   "id": "34dddd5d",
   "metadata": {},
   "outputs": [
    {
     "data": {
      "text/plain": [
       "[ 'ain', 'ain', 'ain' ]"
      ]
     },
     "execution_count": 88,
     "metadata": {},
     "output_type": "execute_result"
    }
   ],
   "source": [
    "var str = \"The rain in SPAIN stays mainly in the plain\";\n",
    "str.match(/ain/g)   // Returns ain,ain,ain"
   ]
  },
  {
   "cell_type": "markdown",
   "id": "0402bb18",
   "metadata": {},
   "source": [
    "## prototype"
   ]
  },
  {
   "cell_type": "markdown",
   "id": "22f2ca20",
   "metadata": {},
   "source": [
    "Use the prototype property to add a new property to all objects of a given type."
   ]
  },
  {
   "cell_type": "code",
   "execution_count": 89,
   "id": "03d88c40",
   "metadata": {},
   "outputs": [
    {
     "name": "stdout",
     "output_type": "stream",
     "text": [
      "employee { name: 'Fred Flintstone', jobtitle: 'Caveman', born: 1970 }\n"
     ]
    }
   ],
   "source": [
    "function employee(name, jobtitle, born) {\n",
    "  this.name = name;\n",
    "  this.jobtitle = jobtitle;\n",
    "  this.born = born;\n",
    "}\n",
    "employee.prototype.salary = 2000;\n",
    "\n",
    "var fred = new employee(\"Fred Flintstone\", \"Caveman\", 1970);\n",
    "\n",
    "console.log( fred );"
   ]
  },
  {
   "cell_type": "code",
   "execution_count": 90,
   "id": "7babab8c",
   "metadata": {},
   "outputs": [
    {
     "name": "stdout",
     "output_type": "stream",
     "text": [
      "2000\n"
     ]
    }
   ],
   "source": [
    "console.log( fred.salary );"
   ]
  },
  {
   "cell_type": "markdown",
   "id": "9f55d6f1",
   "metadata": {},
   "source": [
    "## repeat() "
   ]
  },
  {
   "cell_type": "markdown",
   "id": "ae3719bd",
   "metadata": {},
   "source": [
    "Make a new string by copying the original string number of times. "
   ]
  },
  {
   "cell_type": "code",
   "execution_count": 91,
   "id": "821fd5b7",
   "metadata": {},
   "outputs": [
    {
     "name": "stdout",
     "output_type": "stream",
     "text": [
      "Hello world!Hello world!\n"
     ]
    }
   ],
   "source": [
    "var str = \"Hello world!\";\n",
    "console.log( str.repeat(2) );"
   ]
  },
  {
   "cell_type": "markdown",
   "id": "f8624717",
   "metadata": {},
   "source": [
    "## replace()"
   ]
  },
  {
   "cell_type": "markdown",
   "id": "18f20d52",
   "metadata": {},
   "source": [
    "replace(regexp, newSubstr)        \n",
    "replace(substr, newSubstr)        \n",
    "replace(substr, replacerFunction)"
   ]
  },
  {
   "cell_type": "markdown",
   "id": "c52d065a",
   "metadata": {},
   "source": [
    "| Parameter      | Description   |\n",
    "| :------------- | :------------- |\n",
    "| regexp | A RegExp object or literal.   |\n",
    "| substr | A String that is to be replaced by newSubstr.| \n",
    "| newSubstr (replacement)    | The String that replaces the substring specified by the specified regexp or substr parameter. |\n",
    "|replacerFunction (replacement)|A function to be invoked to create the new substring to be used to replace the matches to the given regexp or substr.|"
   ]
  },
  {
   "cell_type": "markdown",
   "id": "640f6589",
   "metadata": {},
   "source": [
    "The replace() method returns a new string with some or all matches of a pattern replaced by a replacement. The pattern can be a string or a RegExp, and the replacement can be a string or a function to be called for each match. If pattern is a string, only the first occurrence will be replaced."
   ]
  },
  {
   "cell_type": "markdown",
   "id": "965cde25",
   "metadata": {},
   "source": [
    "Return a string where \"Microsoft\" is replaced with \"W3Schools\":"
   ]
  },
  {
   "cell_type": "code",
   "execution_count": 92,
   "id": "89319c95",
   "metadata": {},
   "outputs": [
    {
     "name": "stdout",
     "output_type": "stream",
     "text": [
      "Visit W3Schools!\n"
     ]
    }
   ],
   "source": [
    "var str = \"Visit Microsoft!\";\n",
    "console.log( str.replace(\"Microsoft\", \"W3Schools\") );"
   ]
  },
  {
   "cell_type": "code",
   "execution_count": 7,
   "id": "174e8d53",
   "metadata": {},
   "outputs": [
    {
     "name": "stdout",
     "output_type": "stream",
     "text": [
      "Twas the night before Christmas...\n"
     ]
    }
   ],
   "source": [
    "var str = 'Twas the night before Xmas...';\n",
    "var newstr = str.replace(/xmas/i, 'Christmas');\n",
    "console.log(newstr); "
   ]
  },
  {
   "cell_type": "code",
   "execution_count": 9,
   "id": "ead6b69a",
   "metadata": {},
   "outputs": [
    {
     "name": "stdout",
     "output_type": "stream",
     "text": [
      "Good Night John Smith\n"
     ]
    }
   ],
   "source": [
    "var str = '<salute> John Smith';\n",
    "\n",
    "function getGreeting(num){\n",
    "    if (num == 1) {\n",
    "      return \"Good Night\";\n",
    "    } else if (num == 2) {\n",
    "      return \"Good Morning\";\n",
    "    } else {\n",
    "      return \"Hello\";\n",
    "    }  \n",
    "}\n",
    "\n",
    "var newstr = str.replace(\"<salute>\", getGreeting(1) );\n",
    "\n",
    "console.log(newstr); "
   ]
  },
  {
   "cell_type": "markdown",
   "id": "b5bf550e",
   "metadata": {},
   "source": [
    "## search() "
   ]
  },
  {
   "cell_type": "markdown",
   "id": "4c2ad485",
   "metadata": {},
   "source": [
    "The search() method executes a search for a match between a regular expression and this String object. Return index position of the search string."
   ]
  },
  {
   "cell_type": "markdown",
   "id": "3cbcdc55",
   "metadata": {},
   "source": [
    "Search for \"W3Schools\":"
   ]
  },
  {
   "cell_type": "code",
   "execution_count": 93,
   "id": "557d07b3",
   "metadata": {},
   "outputs": [
    {
     "name": "stdout",
     "output_type": "stream",
     "text": [
      "6\n"
     ]
    }
   ],
   "source": [
    "var str = \"Visit W3Schools!\";\n",
    "console.log( str.search(\"W3Schools\") );  // Returns 6"
   ]
  },
  {
   "cell_type": "markdown",
   "id": "b5c50923",
   "metadata": {},
   "source": [
    "## slice()"
   ]
  },
  {
   "cell_type": "markdown",
   "id": "e2c88efe",
   "metadata": {},
   "source": [
    "The slice() method returns a shallow copy of a portion of an array into a new array object selected from start to end (end not included) where start and end represent the index of items in that array. The original array will not be modified."
   ]
  },
  {
   "cell_type": "markdown",
   "id": "10be44fb",
   "metadata": {},
   "source": [
    "string.slice(start, end)"
   ]
  },
  {
   "cell_type": "markdown",
   "id": "620d21fa",
   "metadata": {},
   "source": [
    "| Parameter      | Description   |\n",
    "| :------------- | :------------- |\n",
    "| start | Required. The position where to begin the extraction. First character is at position 0    |\n",
    "| end   | Optional. The position (up to, but not including) where to end the extraction. If omitted, | \n",
    "|       | slice() selects all characters from the start-position to the end of the string |"
   ]
  },
  {
   "cell_type": "markdown",
   "id": "7d19d55b",
   "metadata": {},
   "source": [
    "Extract parts of a string:"
   ]
  },
  {
   "cell_type": "code",
   "execution_count": 94,
   "id": "40aa642c",
   "metadata": {},
   "outputs": [
    {
     "name": "stdout",
     "output_type": "stream",
     "text": [
      "Hello\n"
     ]
    }
   ],
   "source": [
    "var str = \"Hello world!\";\n",
    "console.log( str.slice(0, 5) );  // Returns \"Hello\""
   ]
  },
  {
   "cell_type": "markdown",
   "id": "6c5cbe2a",
   "metadata": {},
   "source": [
    "## split()"
   ]
  },
  {
   "cell_type": "markdown",
   "id": "05fb75b8",
   "metadata": {},
   "source": [
    "The split() method divides a String into an ordered list of substrings, puts these substrings into an array, and returns the array.  The division is done by searching for a pattern; where the pattern is provided as the first parameter in the method's call."
   ]
  },
  {
   "cell_type": "markdown",
   "id": "3b07ba3a",
   "metadata": {},
   "source": [
    "string.split(separator, limit)"
   ]
  },
  {
   "cell_type": "markdown",
   "id": "abea25fc",
   "metadata": {},
   "source": [
    "| Parameter      | Description   |\n",
    "| :------------- | :------------- |\n",
    "| separator | Optional. Specifies the character, or the regular expression, to use for splitting the string. | \n",
    "|           | If omitted, the entire string will be returned (an array with only one item)  |\n",
    "| limit     | Optional. An integer that specifies the number of splits, items after the split limit will not |\n",
    "|           | be included in the array | "
   ]
  },
  {
   "cell_type": "markdown",
   "id": "24f33d9d",
   "metadata": {},
   "source": [
    "Split a string into an array of substrings:"
   ]
  },
  {
   "cell_type": "code",
   "execution_count": 95,
   "id": "39408434",
   "metadata": {},
   "outputs": [
    {
     "name": "stdout",
     "output_type": "stream",
     "text": [
      "[ 'How', 'are', 'you', 'doing', 'today?' ]\n"
     ]
    }
   ],
   "source": [
    "var str = \"How are you doing today?\";\n",
    "console.log( str.split(\" \") );"
   ]
  },
  {
   "cell_type": "code",
   "execution_count": 96,
   "id": "9f80acea",
   "metadata": {},
   "outputs": [
    {
     "name": "stdout",
     "output_type": "stream",
     "text": [
      "[ 'How', 'are' ]\n"
     ]
    }
   ],
   "source": [
    "var str = \"How are you doing today?\";\n",
    "console.log( str.split(\" \", 2) );"
   ]
  },
  {
   "cell_type": "markdown",
   "id": "a68abfce",
   "metadata": {},
   "source": [
    "If an empty string (\"\") is used as the separator, the string is split between each character."
   ]
  },
  {
   "cell_type": "code",
   "execution_count": 97,
   "id": "0d05a8ae",
   "metadata": {},
   "outputs": [
    {
     "name": "stdout",
     "output_type": "stream",
     "text": [
      "[ 'H', 'o' ]\n"
     ]
    }
   ],
   "source": [
    "var str = \"How are you doing today?\";\n",
    "console.log( str.split(\"\", 2) );"
   ]
  },
  {
   "cell_type": "markdown",
   "id": "4e81648b",
   "metadata": {},
   "source": [
    "## startsWith()"
   ]
  },
  {
   "cell_type": "markdown",
   "id": "baa2fdd7",
   "metadata": {},
   "source": [
    "The startsWith() method determines whether a string begins with the characters of a specified string, returning true or false as appropriate."
   ]
  },
  {
   "cell_type": "markdown",
   "id": "f6a03ddc",
   "metadata": {},
   "source": [
    "string.startsWith(searchvalue, start)"
   ]
  },
  {
   "cell_type": "markdown",
   "id": "d4879c40",
   "metadata": {},
   "source": [
    "| Parameter      | Description   |\n",
    "| :------------- | :------------- |\n",
    "|  searchvalue   |  Required. The string to search for | \n",
    "|  start         | \tOptional. Default 0. At which position to start the search | "
   ]
  },
  {
   "cell_type": "markdown",
   "id": "e45a94a1",
   "metadata": {},
   "source": [
    "Check if a string starts with \"Hello\":"
   ]
  },
  {
   "cell_type": "code",
   "execution_count": 98,
   "id": "2586ffe2",
   "metadata": {},
   "outputs": [
    {
     "name": "stdout",
     "output_type": "stream",
     "text": [
      "true\n"
     ]
    }
   ],
   "source": [
    "var str = \"Hello world, welcome to the universe.\";\n",
    "console.log( str.startsWith(\"Hello\") );   // Returns true"
   ]
  },
  {
   "cell_type": "markdown",
   "id": "288d3d61",
   "metadata": {},
   "source": [
    "## substr()"
   ]
  },
  {
   "cell_type": "markdown",
   "id": "22cc91a5",
   "metadata": {},
   "source": [
    "The substr() method returns a portion of the string, starting at the specified index and extending for a given number of characters afterwards."
   ]
  },
  {
   "cell_type": "markdown",
   "id": "35142a0d",
   "metadata": {},
   "source": [
    "string.substr(start, length)"
   ]
  },
  {
   "cell_type": "markdown",
   "id": "6a60f650",
   "metadata": {},
   "source": [
    "| Parameter      | Description   |\n",
    "| :------------- | :------------- |\n",
    "| start  | Required. The position where to start the extraction. First character is at index 0. | \n",
    "|        | If start is positive and greater than, or equal, to the length of the string, substr() |\n",
    "|        | returns an empty string. | \n",
    "|        | If start is negative, substr() uses it as a character index from the end of the string. | \n",
    "|        | If start is negative or larger than the length of the string, start is set to 0 | \n",
    "| length |  Optional. The number of characters to extract. If omitted, it extracts the rest of the string| "
   ]
  },
  {
   "cell_type": "code",
   "execution_count": 99,
   "id": "7fa7d496",
   "metadata": {},
   "outputs": [],
   "source": [
    "var str = \"Hello world!\";"
   ]
  },
  {
   "cell_type": "markdown",
   "id": "054a37c6",
   "metadata": {},
   "source": [
    "Extract parts of a string:"
   ]
  },
  {
   "cell_type": "code",
   "execution_count": 100,
   "id": "11bcb809",
   "metadata": {},
   "outputs": [
    {
     "name": "stdout",
     "output_type": "stream",
     "text": [
      "ello\n"
     ]
    }
   ],
   "source": [
    "console.log( str.substr(1, 4) );  // Returns \"ello\""
   ]
  },
  {
   "cell_type": "markdown",
   "id": "e74a7506",
   "metadata": {},
   "source": [
    "Begin the extraction at position 2, and extract the rest of the string:"
   ]
  },
  {
   "cell_type": "code",
   "execution_count": 101,
   "id": "5e622eb1",
   "metadata": {},
   "outputs": [
    {
     "name": "stdout",
     "output_type": "stream",
     "text": [
      "llo world!\n"
     ]
    }
   ],
   "source": [
    "console.log( str.substr(2) );"
   ]
  },
  {
   "cell_type": "markdown",
   "id": "1e76dc18",
   "metadata": {},
   "source": [
    "Extract only the first character:"
   ]
  },
  {
   "cell_type": "code",
   "execution_count": 102,
   "id": "bb6560d8",
   "metadata": {},
   "outputs": [
    {
     "name": "stdout",
     "output_type": "stream",
     "text": [
      "H\n"
     ]
    }
   ],
   "source": [
    "console.log( str.substr(0, 1) );"
   ]
  },
  {
   "cell_type": "markdown",
   "id": "50b5ce55",
   "metadata": {},
   "source": [
    "Extract only the last character:"
   ]
  },
  {
   "cell_type": "code",
   "execution_count": 103,
   "id": "5d834c37",
   "metadata": {},
   "outputs": [
    {
     "name": "stdout",
     "output_type": "stream",
     "text": [
      "!\n"
     ]
    }
   ],
   "source": [
    "console.log( str.substr(11, 1) );"
   ]
  },
  {
   "cell_type": "markdown",
   "id": "673454ea",
   "metadata": {},
   "source": [
    "## substring()"
   ]
  },
  {
   "cell_type": "markdown",
   "id": "e18c3fb4",
   "metadata": {},
   "source": [
    "The substr() method returns a portion of the string, starting at the specified index and extending for a given number of characters afterwards."
   ]
  },
  {
   "cell_type": "markdown",
   "id": "75285aa7",
   "metadata": {},
   "source": [
    "string.substring(start, end)"
   ]
  },
  {
   "cell_type": "markdown",
   "id": "5cd54d8c",
   "metadata": {},
   "source": [
    "| Parameter      | Description   |\n",
    "| :------------- | :------------- |\n",
    "| start  | Required. The position where to start the extraction. First character is at index 0. | \n",
    "| end    | Optional. The position (up to, but not including) where to end the extraction. If omitted, |\n",
    "|        |    it extracts the rest of the string |"
   ]
  },
  {
   "cell_type": "code",
   "execution_count": 104,
   "id": "e3331ee9",
   "metadata": {},
   "outputs": [],
   "source": [
    "var str = \"Hello world!\";"
   ]
  },
  {
   "cell_type": "code",
   "execution_count": null,
   "id": "548ee085",
   "metadata": {},
   "outputs": [],
   "source": [
    "Extract characters from a string:"
   ]
  },
  {
   "cell_type": "code",
   "execution_count": 105,
   "id": "aa3dca28",
   "metadata": {},
   "outputs": [
    {
     "name": "stdout",
     "output_type": "stream",
     "text": [
      "ell\n"
     ]
    }
   ],
   "source": [
    "console.log( str.substring(1, 4)  );"
   ]
  },
  {
   "cell_type": "markdown",
   "id": "05e0c00e",
   "metadata": {},
   "source": [
    "## toLocaleLowerCase() "
   ]
  },
  {
   "cell_type": "markdown",
   "id": "e1d342a3",
   "metadata": {},
   "source": [
    "Convert the string to lowercase letters."
   ]
  },
  {
   "cell_type": "code",
   "execution_count": 106,
   "id": "e53f3d3f",
   "metadata": {},
   "outputs": [
    {
     "name": "stdout",
     "output_type": "stream",
     "text": [
      "hello world!\n"
     ]
    }
   ],
   "source": [
    "var str = \"Hello World!\";\n",
    "console.log( str.toLocaleLowerCase() );  // Returns \"hello world!\""
   ]
  },
  {
   "cell_type": "markdown",
   "id": "a70f770c",
   "metadata": {},
   "source": [
    "## toLocaleUpperCase()"
   ]
  },
  {
   "cell_type": "markdown",
   "id": "e75c54d1",
   "metadata": {},
   "source": [
    "Convert the string to uppercase letters."
   ]
  },
  {
   "cell_type": "code",
   "execution_count": 107,
   "id": "b0c14d34",
   "metadata": {},
   "outputs": [
    {
     "name": "stdout",
     "output_type": "stream",
     "text": [
      "HELLO WORLD!\n"
     ]
    }
   ],
   "source": [
    "var str = \"Hello World!\";\n",
    "console.log( str.toLocaleUpperCase() );"
   ]
  },
  {
   "cell_type": "markdown",
   "id": "875c12d7",
   "metadata": {},
   "source": [
    "## toLowerCase()"
   ]
  },
  {
   "cell_type": "markdown",
   "id": "9daa1bb9",
   "metadata": {},
   "source": [
    "Convert the string to lowercase letters."
   ]
  },
  {
   "cell_type": "code",
   "execution_count": 109,
   "id": "a86787de",
   "metadata": {},
   "outputs": [
    {
     "name": "stdout",
     "output_type": "stream",
     "text": [
      "hello world!\n"
     ]
    }
   ],
   "source": [
    "var str = \"Hello World!\";\n",
    "console.log( str.toLowerCase() );"
   ]
  },
  {
   "cell_type": "markdown",
   "id": "b3860fc7",
   "metadata": {},
   "source": [
    "## toString() "
   ]
  },
  {
   "cell_type": "markdown",
   "id": "978d8b67",
   "metadata": {},
   "source": [
    "Return the value of a string."
   ]
  },
  {
   "cell_type": "code",
   "execution_count": 110,
   "id": "f4c655b5",
   "metadata": {},
   "outputs": [
    {
     "name": "stdout",
     "output_type": "stream",
     "text": [
      "Hello World!\n"
     ]
    }
   ],
   "source": [
    "var str = \"Hello World!\";\n",
    "console.log( str.toString() );   // Returns \"Hello World!\""
   ]
  },
  {
   "cell_type": "markdown",
   "id": "2e7d7940",
   "metadata": {},
   "source": [
    "## toUpperCase()"
   ]
  },
  {
   "cell_type": "markdown",
   "id": "a301f0b1",
   "metadata": {},
   "source": [
    "Convert the string to uppercase letters."
   ]
  },
  {
   "cell_type": "code",
   "execution_count": 111,
   "id": "ccae3f5f",
   "metadata": {},
   "outputs": [
    {
     "name": "stdout",
     "output_type": "stream",
     "text": [
      "HELLO WORLD!\n"
     ]
    }
   ],
   "source": [
    "var str = \"Hello World!\";\n",
    "console.log( str.toUpperCase() );   // Returns \"HELLO WORLD!\""
   ]
  },
  {
   "cell_type": "markdown",
   "id": "6344dc9e",
   "metadata": {},
   "source": [
    "## trim() "
   ]
  },
  {
   "cell_type": "markdown",
   "id": "da6b7223",
   "metadata": {},
   "source": [
    "Remove whitespace from both sides of a string."
   ]
  },
  {
   "cell_type": "code",
   "execution_count": 112,
   "id": "e79ff521",
   "metadata": {},
   "outputs": [
    {
     "name": "stdout",
     "output_type": "stream",
     "text": [
      "Hello World!\n"
     ]
    }
   ],
   "source": [
    "var str = \"       Hello World!        \";\n",
    "console.log( str.trim() );   // Returns \"Hello World!\""
   ]
  },
  {
   "cell_type": "markdown",
   "id": "b48515f5",
   "metadata": {},
   "source": [
    "## valueOf()"
   ]
  },
  {
   "cell_type": "markdown",
   "id": "0daa17d2",
   "metadata": {},
   "source": [
    "Return the primitive value of a string object."
   ]
  },
  {
   "cell_type": "code",
   "execution_count": 15,
   "id": "a45af292",
   "metadata": {},
   "outputs": [
    {
     "name": "stdout",
     "output_type": "stream",
     "text": [
      "Type Of: object\n",
      "test\n",
      "Type Of: string\n"
     ]
    }
   ],
   "source": [
    "var str = new String('test');\n",
    "\n",
    "console.log( \"Type Of: \" +typeof str );\n",
    "\n",
    "console.log( str.valueOf() );   // Returns \"Hello World!\"\n",
    "\n",
    "console.log( \"Type Of: \" +typeof str.valueOf() );"
   ]
  },
  {
   "cell_type": "code",
   "execution_count": null,
   "id": "34a219ed",
   "metadata": {},
   "outputs": [],
   "source": []
  }
 ],
 "metadata": {
  "kernelspec": {
   "display_name": "Javascript (Node.js)",
   "language": "javascript",
   "name": "javascript"
  },
  "language_info": {
   "file_extension": ".js",
   "mimetype": "application/javascript",
   "name": "javascript",
   "version": "14.18.0"
  }
 },
 "nbformat": 4,
 "nbformat_minor": 5
}
