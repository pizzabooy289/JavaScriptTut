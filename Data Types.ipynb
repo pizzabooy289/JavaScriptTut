{
 "cells": [
  {
   "cell_type": "markdown",
   "id": "10f7d009",
   "metadata": {},
   "source": [
    "# Data Types"
   ]
  },
  {
   "cell_type": "markdown",
   "id": "99cbe487",
   "metadata": {},
   "source": [
    "There are 8 basic data types in JavaScript.\n",
    "\n",
    "There are essentially two types of values in JavaScript. The first type is primitives, and the second type is objects (which also includes functions). Primitive values include simple value types such as numbers (which includes everything from integers to floats to Infinity to NaN), booleans, strings, undefined, and null (note: even though typeof null === 'object', null is a still primitive value)."
   ]
  },
  {
   "cell_type": "markdown",
   "id": "01446ca2",
   "metadata": {},
   "source": [
    "## number"
   ]
  },
  {
   "cell_type": "markdown",
   "id": "f5816f93",
   "metadata": {},
   "source": [
    " numbers of any kind: integer or floating-point"
   ]
  },
  {
   "cell_type": "code",
   "execution_count": 1,
   "id": "5eff56ca",
   "metadata": {},
   "outputs": [
    {
     "name": "stdout",
     "output_type": "stream",
     "text": [
      "123\n"
     ]
    }
   ],
   "source": [
    "var n = 123\n",
    "console.log( n )"
   ]
  },
  {
   "cell_type": "code",
   "execution_count": 2,
   "id": "0b418601",
   "metadata": {},
   "outputs": [
    {
     "name": "stdout",
     "output_type": "stream",
     "text": [
      "123.909\n"
     ]
    }
   ],
   "source": [
    "var n = 123.909\n",
    "console.log( n )"
   ]
  },
  {
   "cell_type": "markdown",
   "id": "b3e7bb8d",
   "metadata": {},
   "source": [
    "**special numeric values**\n",
    "* Infinity     \n",
    "* -Infinity   \n",
    "* NaN (Not a Number)  -  result of an incorrect or an undefined mathematical operation    "
   ]
  },
  {
   "cell_type": "code",
   "execution_count": 3,
   "id": "ee4b6f38",
   "metadata": {},
   "outputs": [
    {
     "name": "stdout",
     "output_type": "stream",
     "text": [
      "Infinity\n"
     ]
    }
   ],
   "source": [
    "console.log( 1 / 0 )"
   ]
  },
  {
   "cell_type": "code",
   "execution_count": 4,
   "id": "4c34155b",
   "metadata": {},
   "outputs": [
    {
     "name": "stdout",
     "output_type": "stream",
     "text": [
      "NaN\n"
     ]
    }
   ],
   "source": [
    "console.log( \"TOWN\"/2 )"
   ]
  },
  {
   "cell_type": "markdown",
   "id": "0561a9fd",
   "metadata": {},
   "source": [
    "## bigint"
   ]
  },
  {
   "cell_type": "markdown",
   "id": "7bce35a6",
   "metadata": {},
   "source": [
    "value is created by appending n to the end of an integer"
   ]
  },
  {
   "cell_type": "code",
   "execution_count": 5,
   "id": "265b42b9",
   "metadata": {},
   "outputs": [
    {
     "name": "stdout",
     "output_type": "stream",
     "text": [
      "1234567890123456789012345678901234567890n\n"
     ]
    }
   ],
   "source": [
    "const myBigInt = 1234567890123456789012345678901234567890n;\n",
    "console.log( myBigInt )"
   ]
  },
  {
   "cell_type": "markdown",
   "id": "bc36d116",
   "metadata": {},
   "source": [
    "## string"
   ]
  },
  {
   "cell_type": "markdown",
   "id": "4780f214",
   "metadata": {},
   "source": [
    "In JavaScript, there are 3 types of quotes.\n",
    "\n",
    "1. Double quotes: \"Hello\".\n",
    "2. Single quotes: 'Hello'.\n",
    "3. Backticks: `Hello`."
   ]
  },
  {
   "cell_type": "markdown",
   "id": "1c99f33d",
   "metadata": {},
   "source": [
    "Double and single quotes are “simple” quotes. There’s practically no difference between \n",
    "them in JavaScript.\n",
    "\n",
    "Backticks are “extended functionality” quotes. They allow us to embed variables and \n",
    "expressions into a string by wrapping them in ${…}"
   ]
  },
  {
   "cell_type": "code",
   "execution_count": 6,
   "id": "c8e69936",
   "metadata": {},
   "outputs": [
    {
     "name": "stdout",
     "output_type": "stream",
     "text": [
      "Hello, John!\n"
     ]
    }
   ],
   "source": [
    "var name = \"John\";\n",
    "\n",
    "// embed a variable\n",
    "console.log(  `Hello, ${name}!` ); "
   ]
  },
  {
   "cell_type": "markdown",
   "id": "a8f6c65a",
   "metadata": {},
   "source": [
    "## boolean"
   ]
  },
  {
   "cell_type": "code",
   "execution_count": 7,
   "id": "444b772b",
   "metadata": {},
   "outputs": [
    {
     "name": "stdout",
     "output_type": "stream",
     "text": [
      "true\n"
     ]
    }
   ],
   "source": [
    "var nameFieldChecked = true; \n",
    "console.log(  nameFieldChecked )"
   ]
  },
  {
   "cell_type": "markdown",
   "id": "ec281d95",
   "metadata": {},
   "source": [
    "## null"
   ]
  },
  {
   "cell_type": "markdown",
   "id": "349520d4",
   "metadata": {},
   "source": [
    "It’s just a special value which represents “nothing”, “empty” or “value unknown”."
   ]
  },
  {
   "cell_type": "code",
   "execution_count": 8,
   "id": "cf3c2e05",
   "metadata": {},
   "outputs": [
    {
     "name": "stdout",
     "output_type": "stream",
     "text": [
      "null\n"
     ]
    }
   ],
   "source": [
    "var age = null;\n",
    "console.log( age );"
   ]
  },
  {
   "cell_type": "markdown",
   "id": "23b08508",
   "metadata": {},
   "source": [
    "## undefined"
   ]
  },
  {
   "cell_type": "markdown",
   "id": "a171da82",
   "metadata": {},
   "source": [
    "If a variable is declared, but not assigned"
   ]
  },
  {
   "cell_type": "code",
   "execution_count": 9,
   "id": "887fdaa0",
   "metadata": {},
   "outputs": [
    {
     "name": "stdout",
     "output_type": "stream",
     "text": [
      "undefined\n"
     ]
    }
   ],
   "source": [
    "var address;\n",
    "console.log( address );"
   ]
  },
  {
   "cell_type": "markdown",
   "id": "9ee1aae1",
   "metadata": {},
   "source": [
    "## object"
   ]
  },
  {
   "cell_type": "markdown",
   "id": "1dfd7163",
   "metadata": {},
   "source": [
    "Object and Array"
   ]
  },
  {
   "cell_type": "code",
   "execution_count": 10,
   "id": "1963d01e",
   "metadata": {},
   "outputs": [
    {
     "data": {
      "text/plain": [
       "'object'"
      ]
     },
     "execution_count": 10,
     "metadata": {},
     "output_type": "execute_result"
    }
   ],
   "source": [
    "var bank = {\n",
    "    amount: 12.00,\n",
    "    type: \"Checking\"\n",
    "}\n",
    "\n",
    "typeof bank"
   ]
  },
  {
   "cell_type": "code",
   "execution_count": 11,
   "id": "6774136b",
   "metadata": {},
   "outputs": [
    {
     "data": {
      "text/plain": [
       "'object'"
      ]
     },
     "execution_count": 11,
     "metadata": {},
     "output_type": "execute_result"
    }
   ],
   "source": [
    "var carTypes = [\"SEDAN\", \"HATCHBACK\"];\n",
    "\n",
    "typeof carTypes"
   ]
  },
  {
   "cell_type": "markdown",
   "id": "d88a0732",
   "metadata": {},
   "source": [
    "## symbol"
   ]
  },
  {
   "cell_type": "markdown",
   "id": "10b60843",
   "metadata": {},
   "source": [
    "Every symbol value returned from Symbol() is unique.     \n",
    "\n",
    "A symbol value may be used as an identifier for object properties this is the data type's\n",
    "only purpose.\n",
    "\n",
    "Is primary type so you can uses the new operator.            \n",
    "var a = new Symbol(); // This will throw error."
   ]
  },
  {
   "cell_type": "markdown",
   "id": "b2e8cab3",
   "metadata": {},
   "source": [
    "In Example below. Tom is just description and is used for debugging. Tom is NOT index as like with Array. "
   ]
  },
  {
   "cell_type": "code",
   "execution_count": 12,
   "id": "c846f8e3",
   "metadata": {},
   "outputs": [
    {
     "name": "stdout",
     "output_type": "stream",
     "text": [
      "Tom John Smith\n"
     ]
    }
   ],
   "source": [
    "var people = [];\n",
    "people[\"Tom\"] = \"Tom John Smith\"; // \"Tom\" is index for as array. \n",
    "\n",
    "console.log ( people[\"Tom\"] );"
   ]
  },
  {
   "cell_type": "code",
   "execution_count": 13,
   "id": "16b8064c",
   "metadata": {},
   "outputs": [],
   "source": [
    "const s1  = Symbol('Tom'); "
   ]
  },
  {
   "cell_type": "code",
   "execution_count": 14,
   "id": "fbcfabab",
   "metadata": {},
   "outputs": [
    {
     "name": "stdout",
     "output_type": "stream",
     "text": [
      "true\n"
     ]
    }
   ],
   "source": [
    "console.log( s1 === s1)"
   ]
  },
  {
   "cell_type": "code",
   "execution_count": 15,
   "id": "efba50fd",
   "metadata": {},
   "outputs": [
    {
     "name": "stdout",
     "output_type": "stream",
     "text": [
      "false\n"
     ]
    }
   ],
   "source": [
    "console.log( s1 === Symbol('Tom') )"
   ]
  },
  {
   "cell_type": "code",
   "execution_count": 16,
   "id": "700e896c",
   "metadata": {},
   "outputs": [
    {
     "name": "stdout",
     "output_type": "stream",
     "text": [
      "Symbol(Tom)\n"
     ]
    }
   ],
   "source": [
    "console.log( s1.toString() )"
   ]
  },
  {
   "cell_type": "markdown",
   "id": "032fb2fd",
   "metadata": {},
   "source": [
    "# The typeof operator"
   ]
  },
  {
   "cell_type": "code",
   "execution_count": 17,
   "id": "10f101ef",
   "metadata": {},
   "outputs": [
    {
     "data": {
      "text/plain": [
       "'undefined'"
      ]
     },
     "execution_count": 17,
     "metadata": {},
     "output_type": "execute_result"
    }
   ],
   "source": [
    "typeof undefined "
   ]
  },
  {
   "cell_type": "code",
   "execution_count": 18,
   "id": "41fafed8",
   "metadata": {},
   "outputs": [
    {
     "data": {
      "text/plain": [
       "'number'"
      ]
     },
     "execution_count": 18,
     "metadata": {},
     "output_type": "execute_result"
    }
   ],
   "source": [
    "typeof 0 "
   ]
  },
  {
   "cell_type": "code",
   "execution_count": 19,
   "id": "6c2f815f",
   "metadata": {},
   "outputs": [
    {
     "data": {
      "text/plain": [
       "'bigint'"
      ]
     },
     "execution_count": 19,
     "metadata": {},
     "output_type": "execute_result"
    }
   ],
   "source": [
    "typeof 10n"
   ]
  },
  {
   "cell_type": "code",
   "execution_count": 20,
   "id": "2ab4d683",
   "metadata": {},
   "outputs": [
    {
     "data": {
      "text/plain": [
       "'boolean'"
      ]
     },
     "execution_count": 20,
     "metadata": {},
     "output_type": "execute_result"
    }
   ],
   "source": [
    "typeof true "
   ]
  },
  {
   "cell_type": "code",
   "execution_count": 21,
   "id": "d7270a04",
   "metadata": {},
   "outputs": [
    {
     "data": {
      "text/plain": [
       "'string'"
      ]
     },
     "execution_count": 21,
     "metadata": {},
     "output_type": "execute_result"
    }
   ],
   "source": [
    "typeof \"foo\" "
   ]
  },
  {
   "cell_type": "code",
   "execution_count": 22,
   "id": "940a2c07",
   "metadata": {},
   "outputs": [
    {
     "data": {
      "text/plain": [
       "'symbol'"
      ]
     },
     "execution_count": 22,
     "metadata": {},
     "output_type": "execute_result"
    }
   ],
   "source": [
    "typeof Symbol(\"id\") "
   ]
  },
  {
   "cell_type": "code",
   "execution_count": 23,
   "id": "b453edbf",
   "metadata": {},
   "outputs": [
    {
     "data": {
      "text/plain": [
       "'object'"
      ]
     },
     "execution_count": 23,
     "metadata": {},
     "output_type": "execute_result"
    }
   ],
   "source": [
    "typeof Math "
   ]
  },
  {
   "cell_type": "code",
   "execution_count": 24,
   "id": "597904de",
   "metadata": {},
   "outputs": [
    {
     "data": {
      "text/plain": [
       "'object'"
      ]
     },
     "execution_count": 24,
     "metadata": {},
     "output_type": "execute_result"
    }
   ],
   "source": [
    "typeof null"
   ]
  },
  {
   "cell_type": "code",
   "execution_count": 25,
   "id": "08444e64",
   "metadata": {},
   "outputs": [
    {
     "data": {
      "text/plain": [
       "'function'"
      ]
     },
     "execution_count": 25,
     "metadata": {},
     "output_type": "execute_result"
    }
   ],
   "source": [
    "function myFunction() {\n",
    "  return 0;   \n",
    "}\n",
    "\n",
    "\n",
    "typeof myFunction"
   ]
  },
  {
   "cell_type": "code",
   "execution_count": 26,
   "id": "9bf7c78f",
   "metadata": {},
   "outputs": [
    {
     "data": {
      "text/plain": [
       "'object'"
      ]
     },
     "execution_count": 26,
     "metadata": {},
     "output_type": "execute_result"
    }
   ],
   "source": [
    "var fruit = [\"Banana\", \"Apple\", \"Pear\"];\n",
    "typeof fruit ;"
   ]
  },
  {
   "cell_type": "code",
   "execution_count": 27,
   "id": "ba6a0257",
   "metadata": {},
   "outputs": [
    {
     "data": {
      "text/plain": [
       "'object'"
      ]
     },
     "execution_count": 27,
     "metadata": {},
     "output_type": "execute_result"
    }
   ],
   "source": [
    "var person = {\n",
    "firstName:\"John\",\n",
    "lastName:\"Doe\",\n",
    "age:20,\n",
    "nationality:\"German\"\n",
    "};\n",
    "\n",
    "typeof person ;"
   ]
  }
 ],
 "metadata": {
  "kernelspec": {
   "display_name": "Javascript (Node.js)",
   "language": "javascript",
   "name": "javascript"
  },
  "language_info": {
   "file_extension": ".js",
   "mimetype": "application/javascript",
   "name": "javascript",
   "version": "14.18.0"
  }
 },
 "nbformat": 4,
 "nbformat_minor": 5
}
