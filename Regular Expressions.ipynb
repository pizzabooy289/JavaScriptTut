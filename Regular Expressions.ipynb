{
 "cells": [
  {
   "cell_type": "markdown",
   "id": "7076eb21",
   "metadata": {},
   "source": [
    "# Regular Expressions"
   ]
  },
  {
   "cell_type": "code",
   "execution_count": 1,
   "id": "d851cacc",
   "metadata": {},
   "outputs": [
    {
     "name": "stdout",
     "output_type": "stream",
     "text": [
      "hello\n"
     ]
    }
   ],
   "source": [
    "console.log(\"hello\")"
   ]
  },
  {
   "cell_type": "markdown",
   "id": "5d27f48b",
   "metadata": {},
   "source": [
    "# RegExp Object\n"
   ]
  },
  {
   "cell_type": "markdown",
   "id": "091e0b30",
   "metadata": {},
   "source": [
    "There are two ways to create a RegExp object: a literal notation and a constructor."
   ]
  },
  {
   "cell_type": "markdown",
   "id": "fddbc964",
   "metadata": {},
   "source": [
    "* The first and last / is where the Regular Expression starts and ends."
   ]
  },
  {
   "cell_type": "markdown",
   "id": "ddb65e86",
   "metadata": {},
   "source": [
    "### Literal Notation"
   ]
  },
  {
   "cell_type": "markdown",
   "id": "17dab4f4",
   "metadata": {},
   "source": [
    "/pattern/modifiers;\n",
    "\n",
    "| Parameter     | Description |\n",
    "| ----------- | ----------- |\n",
    "|pattern   | Required. A regular expression is an object that describes a pattern of characters.     |\n",
    "|modifier   | Optional. Modifiers are used to change perform of the Regular Expression. |"
   ]
  },
  {
   "cell_type": "code",
   "execution_count": 8,
   "id": "cc9d084c",
   "metadata": {},
   "outputs": [
    {
     "name": "stdout",
     "output_type": "stream",
     "text": [
      "The fat X ran down the street by the Cat Club.\n"
     ]
    }
   ],
   "source": [
    "var str = 'The fat cat ran down the street by the Cat Club.';\n",
    "var regex = /cat/g;\n",
    "console.log(str.replace(regex, 'X'));"
   ]
  },
  {
   "cell_type": "code",
   "execution_count": 9,
   "id": "f7f5cb7d",
   "metadata": {},
   "outputs": [
    {
     "name": "stdout",
     "output_type": "stream",
     "text": [
      "The fat X ran down the street by the X Club.\n"
     ]
    }
   ],
   "source": [
    "var str = 'The fat cat ran down the street by the Cat Club.';\n",
    "var regex = /cat/gi;\n",
    "console.log(str.replace(regex, 'X'));"
   ]
  },
  {
   "cell_type": "markdown",
   "id": "df3ceb3c",
   "metadata": {},
   "source": [
    "### Constructor"
   ]
  },
  {
   "cell_type": "markdown",
   "id": "990fa209",
   "metadata": {},
   "source": [
    "new RegExp(pattern, modifier)\n",
    "\n",
    "\n",
    "| Parameter     | Description |\n",
    "| ----------- | ----------- |\n",
    "|pattern   | Required. A regular expression is an object that describes a pattern of characters.     |\n",
    "|modifier   | Optional. Modifiers are used to change perform of the Regular Expression. |"
   ]
  },
  {
   "cell_type": "code",
   "execution_count": 10,
   "id": "0e693a0f",
   "metadata": {},
   "outputs": [
    {
     "name": "stdout",
     "output_type": "stream",
     "text": [
      "The fat X ran down the street by the X Club.\n"
     ]
    }
   ],
   "source": [
    "var str = 'The fat cat ran down the street by the Cat Club.';\n",
    "var regex = new RegExp('cat', 'gi')\n",
    "console.log(str.replace(regex, 'X'));"
   ]
  },
  {
   "cell_type": "markdown",
   "id": "e6e26a50",
   "metadata": {},
   "source": [
    "# Methods"
   ]
  },
  {
   "cell_type": "markdown",
   "id": "44ba092a",
   "metadata": {},
   "source": [
    "## RegExp "
   ]
  },
  {
   "cell_type": "markdown",
   "id": "a174ce12",
   "metadata": {},
   "source": [
    "With **exec and test methods** are very similar to **match method** the only difference is match method returns all matchs in array while with exec and test methods we need **looping structure**. "
   ]
  },
  {
   "cell_type": "markdown",
   "id": "50b3565a",
   "metadata": {},
   "source": [
    "**lastIndex** a read/write property of RegExp objects. For regular expressions with the \"g\" attribute set, it contains an integer that specifies the character position immediately following the last match found by the **RegExp.exec()** and **RegExp.test()** methods. These methods use this property as the starting point for the next search they conduct.\n",
    "\n",
    "This property allows you to call those methods repeatedly, to loop through all matches in a string and works only if the \"g\" modifier is set.\n",
    "\n",
    "This property is read/write, so you can set it at any time to specify where in the target string, the next search should begin. exec() and test() automatically reset the lastIndex to 0 when they fail to find a match (or another match)."
   ]
  },
  {
   "cell_type": "markdown",
   "id": "86f0cbaa",
   "metadata": {},
   "source": [
    "### RegExp.prototype.exec(  String string_to_seach )"
   ]
  },
  {
   "cell_type": "markdown",
   "id": "f0aae653",
   "metadata": {},
   "source": [
    "The exec() method executes a search for a match in a specified string. **Returns** a result array (match_value,index,inpute_string,group_name), or null.\n",
    "\n",
    "JavaScript RegExp objects are stateful when they have the global or sticky flags set (e.g. /foo/g or /foo/y). They store a lastIndex from the previous match. Using this internally, exec() can be used to iterate over multiple matches in a string of text (with capture groups), as opposed to getting just the matching strings with String.prototype.match().\n",
    "\n",
    "A newer function has been proposed to simplify matching multiple parts of a string (with capture groups): String.prototype.matchAll().\n",
    "\n",
    "If you are executing a match simply to find true or false, use RegExp.prototype.test() method or String.prototype.search() instead."
   ]
  },
  {
   "cell_type": "code",
   "execution_count": 1,
   "id": "535fb83f",
   "metadata": {},
   "outputs": [
    {
     "name": "stdout",
     "output_type": "stream",
     "text": [
      "***1***\n",
      "[\n",
      "  'foo',\n",
      "  index: 6,\n",
      "  input: 'table football, foosball',\n",
      "  groups: undefined\n",
      "]\n",
      "Found foo. Next starts at 9.\n",
      "***2***\n",
      "[\n",
      "  'foo',\n",
      "  index: 16,\n",
      "  input: 'table football, foosball',\n",
      "  groups: undefined\n",
      "]\n",
      "Found foo. Next starts at 19.\n"
     ]
    },
    {
     "data": {
      "text/plain": [
       "3"
      ]
     },
     "execution_count": 1,
     "metadata": {},
     "output_type": "execute_result"
    }
   ],
   "source": [
    "var str = 'table football, foosball';\n",
    "var regex = RegExp('foo*', 'g');\n",
    "\n",
    "var array;\n",
    "var loop_counter = 1;\n",
    "\n",
    "while ((array = regex.exec(str)) !== null) {\n",
    "  console.log( \"***\" + loop_counter + \"***\");\n",
    "  console.log(array)\n",
    "  console.log(`Found ${array}. Next starts at ${regex.lastIndex}.`);\n",
    "  loop_counter = loop_counter +1;\n",
    "}"
   ]
  },
  {
   "cell_type": "markdown",
   "id": "f6f74c70",
   "metadata": {},
   "source": [
    "### RegExp.prototype.test(  String string_to_seach )"
   ]
  },
  {
   "cell_type": "markdown",
   "id": "e36a14a5",
   "metadata": {},
   "source": [
    "The test() method executes a search for a match between a regular expression and a specified string. **Return** boolean."
   ]
  },
  {
   "cell_type": "code",
   "execution_count": 3,
   "id": "c0309321",
   "metadata": {},
   "outputs": [
    {
     "name": "stdout",
     "output_type": "stream",
     "text": [
      "Found true. Next starts at 9.\n",
      "Found true. Next starts at 19.\n"
     ]
    }
   ],
   "source": [
    "var str = 'table football, foosball';\n",
    "var regex = new RegExp('foo*', 'g');\n",
    "\n",
    "var boolean;\n",
    "\n",
    "while ((boolean = regex.test(str)) == true) {\n",
    "\n",
    "  console.log(`Found ${boolean}. Next starts at ${regex.lastIndex}.`);\n",
    "\n",
    "}"
   ]
  },
  {
   "cell_type": "markdown",
   "id": "2fe69a33",
   "metadata": {},
   "source": [
    "### String"
   ]
  },
  {
   "cell_type": "markdown",
   "id": "2d2b93f9",
   "metadata": {},
   "source": [
    "### String.prototype.match( RegExp regular_expression_pattern )"
   ]
  },
  {
   "cell_type": "markdown",
   "id": "8f61ba94",
   "metadata": {},
   "source": [
    "The match() method retrieves the **result** of matching a string of the match in an array."
   ]
  },
  {
   "cell_type": "code",
   "execution_count": 45,
   "id": "8db52fd3",
   "metadata": {},
   "outputs": [
    {
     "name": "stdout",
     "output_type": "stream",
     "text": [
      "[ 'T', 'I' ]\n"
     ]
    }
   ],
   "source": [
    "var str = 'The quick brown fox jumps over the lazy dog. It barked.';\n",
    "var regex = new RegExp('[A-Z]', 'g');\n",
    "\n",
    "console.log(str.match(regex));"
   ]
  },
  {
   "cell_type": "markdown",
   "id": "ed59181b",
   "metadata": {},
   "source": [
    "### String.prototype.matchAll( RegExp regular_expression_pattern )"
   ]
  },
  {
   "cell_type": "markdown",
   "id": "1e89754a",
   "metadata": {},
   "source": [
    "The matchAll() method returns an iterator of all **results** matching a string against a regular expression,\n",
    "including capturing groups."
   ]
  },
  {
   "cell_type": "code",
   "execution_count": 4,
   "id": "67975929",
   "metadata": {},
   "outputs": [
    {
     "name": "stdout",
     "output_type": "stream",
     "text": [
      "array[0]: \n",
      "[\n",
      "  'test1',\n",
      "  'e',\n",
      "  'st1',\n",
      "  '1',\n",
      "  index: 0,\n",
      "  input: 'test1test2',\n",
      "  groups: undefined\n",
      "]\n",
      "array[1]: \n",
      "[\n",
      "  'test2',\n",
      "  'e',\n",
      "  'st2',\n",
      "  '2',\n",
      "  index: 5,\n",
      "  input: 'test1test2',\n",
      "  groups: undefined\n",
      "]\n"
     ]
    }
   ],
   "source": [
    "var str = 'test1test2';\n",
    "var regexp = /t(e)(st(\\d?))/g;\n",
    "\n",
    "var array = [...str.matchAll(regexp)];\n",
    "\n",
    "for(var i=0; i < array.length; i++){\n",
    "    console.log(\"array[\"+i+\"]: \");\n",
    "    console.log(array[i])\n",
    "}"
   ]
  },
  {
   "cell_type": "markdown",
   "id": "c5760261",
   "metadata": {},
   "source": [
    "### String.prototype.replace( RegExp regular_expression_pattern )"
   ]
  },
  {
   "cell_type": "markdown",
   "id": "416bc632",
   "metadata": {},
   "source": [
    "The replace() method **returns** a new string with first of a pattern replaced by a replacement.  **Replace** first occurrence."
   ]
  },
  {
   "cell_type": "code",
   "execution_count": 13,
   "id": "917faeb5",
   "metadata": {},
   "outputs": [
    {
     "name": "stdout",
     "output_type": "stream",
     "text": [
      "The quick brown fox jumps over the lazy monkey. If the dog reacted, was it really lazy?\n"
     ]
    }
   ],
   "source": [
    "var str = 'The quick brown fox jumps over the lazy dog. If the dog reacted, was it really lazy?';\n",
    "\n",
    "console.log( str.replace('dog', 'monkey') );"
   ]
  },
  {
   "cell_type": "markdown",
   "id": "8e5b3b30",
   "metadata": {},
   "source": [
    "### String.prototype.replaceAll( RegExp regular_expression_pattern )"
   ]
  },
  {
   "cell_type": "markdown",
   "id": "bebce226",
   "metadata": {},
   "source": [
    "The replaceAll() method returns a new string with all matches of a pattern replaced by a replacement. "
   ]
  },
  {
   "cell_type": "markdown",
   "id": "6a11f9c1",
   "metadata": {},
   "source": [
    "If you're seeing the error \"TypeError: replaceAll is not a function\", it is likely due to the method not implemented/supported by the browser version (or the Node.js version) that you're using."
   ]
  },
  {
   "cell_type": "code",
   "execution_count": 30,
   "id": "9a56adea",
   "metadata": {
    "scrolled": true
   },
   "outputs": [
    {
     "name": "stdout",
     "output_type": "stream",
     "text": [
      "call cat\n"
     ]
    }
   ],
   "source": [
    "var str = \"ball bat\";\n",
    "\n",
    "// replace all occurrence of b with c\n",
    "//console.log(str.replaceAll('b', 'c'));\n",
    "//TypeError: str.replaceAll is not a function\n",
    "\n",
    "\n",
    "var regex = /b/g;\n",
    "\n",
    "console.log(str.replace(regex, 'c'));"
   ]
  },
  {
   "cell_type": "markdown",
   "id": "d487b918",
   "metadata": {},
   "source": [
    "### String.prototype.search( RegExp regular_expression_pattern )"
   ]
  },
  {
   "cell_type": "markdown",
   "id": "b02c2bf1",
   "metadata": {},
   "source": [
    "The search() method executes a search for a match between a regular expression and this String object. **Return** index first occurrence."
   ]
  },
  {
   "cell_type": "code",
   "execution_count": 15,
   "id": "d511de8e",
   "metadata": {},
   "outputs": [
    {
     "name": "stdout",
     "output_type": "stream",
     "text": [
      "40\n"
     ]
    }
   ],
   "source": [
    "var str = 'The quick brown fox jumps over the lazy dog. If the dog barked, was it really lazy?';\n",
    "\n",
    "var regex = /dog/;\n",
    "\n",
    "console.log(str.search(regex));"
   ]
  },
  {
   "cell_type": "code",
   "execution_count": 5,
   "id": "11467889",
   "metadata": {},
   "outputs": [
    {
     "name": "stdout",
     "output_type": "stream",
     "text": [
      "0\n"
     ]
    }
   ],
   "source": [
    "var str = 'dog. dog';\n",
    "\n",
    "var regex = /dog/;\n",
    "\n",
    "console.log(str.search(regex));"
   ]
  },
  {
   "cell_type": "markdown",
   "id": "9715ca77",
   "metadata": {},
   "source": [
    "# Modifiers"
   ]
  },
  {
   "cell_type": "markdown",
   "id": "16d4605c",
   "metadata": {},
   "source": [
    "### d Flag"
   ]
  },
  {
   "cell_type": "markdown",
   "id": "efa99e30",
   "metadata": {},
   "source": [
    "The \"d\" flag indicates that the result of a regular expression match should contain the **start and end indices** of the\n",
    "substrings of each capture group. **You cannot change this property directly.**"
   ]
  },
  {
   "cell_type": "markdown",
   "id": "bea2190f",
   "metadata": {},
   "source": [
    "#### Corresponding property: RegExp.prototype.hasIndices"
   ]
  },
  {
   "cell_type": "code",
   "execution_count": 6,
   "id": "41d9c0e6",
   "metadata": {},
   "outputs": [],
   "source": [
    "var str = 'foo bar foo';\n",
    "\n",
    "// Invalid flags supplied to RegExp constructor 'gd'\n",
    "//var regex = new RegExp('foo', 'gd');\n",
    "\n",
    "//console.log(regex.hasIndices); // Output: true\n",
    "\n",
    "// console.log(regex.exec(str).indices[0]); // Output: Array [0, 3]\n",
    "// console.log(regex.exec(str).indices[0]); // Output: Array [8, 11]"
   ]
  },
  {
   "cell_type": "markdown",
   "id": "0bde2fe4",
   "metadata": {},
   "source": [
    "### g Flag"
   ]
  },
  {
   "cell_type": "markdown",
   "id": "2a4948b2",
   "metadata": {},
   "source": [
    "The \"g\" flag indicates that the regular expression should be tested **against all possible matches** in a string. A \n",
    "regular expression defined as both global (\"g\") and sticky (\"y\") will ignore the global flag and perform sticky \n",
    "matches."
   ]
  },
  {
   "cell_type": "markdown",
   "id": "944eb4e7",
   "metadata": {},
   "source": [
    "##### Corresponding property: RegExp.prototype.global"
   ]
  },
  {
   "cell_type": "code",
   "execution_count": 40,
   "id": "f1cd914d",
   "metadata": {},
   "outputs": [
    {
     "name": "stdout",
     "output_type": "stream",
     "text": [
      "true\n",
      "XexampleX\n",
      "Is the global flag set ? true\n"
     ]
    }
   ],
   "source": [
    "var regex = new RegExp('foo', 'g');\n",
    "\n",
    "console.log(regex.global);  // true\n",
    "\n",
    "var str = 'fooexamplefoo';\n",
    "\n",
    "console.log( str.replace(regex, 'X') );\n",
    " \n",
    "console.log(\"Is the global flag set ? \" + regex.global)"
   ]
  },
  {
   "cell_type": "markdown",
   "id": "446f0735",
   "metadata": {},
   "source": [
    "### i Flag"
   ]
  },
  {
   "cell_type": "markdown",
   "id": "2b5feddd",
   "metadata": {},
   "source": [
    "Do a **case-insensitive** search"
   ]
  },
  {
   "cell_type": "markdown",
   "id": "6e29f033",
   "metadata": {},
   "source": [
    "##### Corresponding property: RegExp.prototype.ignoreCase"
   ]
  },
  {
   "cell_type": "code",
   "execution_count": 37,
   "id": "f356a44f",
   "metadata": {},
   "outputs": [
    {
     "name": "stdout",
     "output_type": "stream",
     "text": [
      "true\n",
      "Visit X\n"
     ]
    }
   ],
   "source": [
    "var regex = /w3schools/i;\n",
    "\n",
    "console.log(regex.ignoreCase);  // true\n",
    "\n",
    "var str = \"Visit W3Schools\";\n",
    "\n",
    "console.log( str.replace(regex, 'X') );"
   ]
  },
  {
   "cell_type": "markdown",
   "id": "b8a56d68",
   "metadata": {},
   "source": [
    "### m Flag  "
   ]
  },
  {
   "cell_type": "markdown",
   "id": "2bf44c15",
   "metadata": {},
   "source": [
    "**Multi-line** search."
   ]
  },
  {
   "cell_type": "markdown",
   "id": "d400bb31",
   "metadata": {},
   "source": [
    "##### Corresponding property: RegExp.prototype.multiline"
   ]
  },
  {
   "cell_type": "code",
   "execution_count": 7,
   "id": "d818c022",
   "metadata": {},
   "outputs": [],
   "source": [
    "var regex = new RegExp('foo', 'gm');"
   ]
  },
  {
   "cell_type": "markdown",
   "id": "91d48361",
   "metadata": {},
   "source": [
    "Checking if the multi line flag is set in the Regular Expression. "
   ]
  },
  {
   "cell_type": "code",
   "execution_count": 8,
   "id": "150e1899",
   "metadata": {},
   "outputs": [
    {
     "name": "stdout",
     "output_type": "stream",
     "text": [
      "true\n"
     ]
    }
   ],
   "source": [
    "console.log(regex.multiline); "
   ]
  },
  {
   "cell_type": "markdown",
   "id": "61d1aed6",
   "metadata": {},
   "source": [
    "Printing out the string to see the new line "
   ]
  },
  {
   "cell_type": "code",
   "execution_count": 9,
   "id": "9b9c3e8c",
   "metadata": {},
   "outputs": [
    {
     "name": "stdout",
     "output_type": "stream",
     "text": [
      "A foo is cool\n",
      "A foo is big\n"
     ]
    }
   ],
   "source": [
    "var str = \"A foo is cool\\nA foo is big\";\n",
    "console.log(str); "
   ]
  },
  {
   "cell_type": "markdown",
   "id": "866721c2",
   "metadata": {},
   "source": [
    "This flag will search each line of the paragraph. "
   ]
  },
  {
   "cell_type": "code",
   "execution_count": 10,
   "id": "18f314ca",
   "metadata": {},
   "outputs": [
    {
     "name": "stdout",
     "output_type": "stream",
     "text": [
      "A X is cool\n",
      "A X is big\n"
     ]
    }
   ],
   "source": [
    "console.log( str.replace(regex, 'X') );"
   ]
  },
  {
   "cell_type": "markdown",
   "id": "800a1c1f",
   "metadata": {},
   "source": [
    "### s Flag  "
   ]
  },
  {
   "cell_type": "markdown",
   "id": "32888400",
   "metadata": {},
   "source": [
    "Allows . to match newline characters."
   ]
  },
  {
   "cell_type": "markdown",
   "id": "306f6767",
   "metadata": {},
   "source": [
    "##### Corresponding property: RegExp.prototype.dotAll"
   ]
  },
  {
   "cell_type": "code",
   "execution_count": 15,
   "id": "f63d0c97",
   "metadata": {},
   "outputs": [
    {
     "name": "stdout",
     "output_type": "stream",
     "text": [
      "bar\n",
      "example foo example\n"
     ]
    }
   ],
   "source": [
    "var str = 'bar\\nexample foo example';\n",
    "console.log(str);"
   ]
  },
  {
   "cell_type": "markdown",
   "id": "d38ac6f5",
   "metadata": {},
   "source": [
    "The dot in this Regular Expression acts like new line "
   ]
  },
  {
   "cell_type": "code",
   "execution_count": 12,
   "id": "d059f2d5",
   "metadata": {},
   "outputs": [],
   "source": [
    "var regex = new RegExp('bar.example','s');"
   ]
  },
  {
   "cell_type": "markdown",
   "id": "af50c7ab",
   "metadata": {},
   "source": [
    "Checking if the s Flag is set"
   ]
  },
  {
   "cell_type": "code",
   "execution_count": 13,
   "id": "b6c3167d",
   "metadata": {},
   "outputs": [
    {
     "name": "stdout",
     "output_type": "stream",
     "text": [
      "true\n"
     ]
    }
   ],
   "source": [
    "console.log(regex.dotAll); "
   ]
  },
  {
   "cell_type": "code",
   "execution_count": 14,
   "id": "a14398db",
   "metadata": {},
   "outputs": [
    {
     "name": "stdout",
     "output_type": "stream",
     "text": [
      "X foo example\n"
     ]
    }
   ],
   "source": [
    "console.log(str.replace(regex,'X')); "
   ]
  },
  {
   "cell_type": "markdown",
   "id": "afd490e3",
   "metadata": {},
   "source": [
    "### u Flag "
   ]
  },
  {
   "cell_type": "markdown",
   "id": "af2ad7af",
   "metadata": {},
   "source": [
    "\"unicode\"; treat a pattern as a sequence of unicode code points."
   ]
  },
  {
   "cell_type": "markdown",
   "id": "e23641b4",
   "metadata": {},
   "source": [
    "##### Corresponding property: RegExp.prototype.unicode"
   ]
  },
  {
   "cell_type": "markdown",
   "id": "1699a0b6",
   "metadata": {},
   "source": [
    "Unicode Character 'LATIN SMALL LETTER A' (U+0061)"
   ]
  },
  {
   "cell_type": "code",
   "execution_count": 48,
   "id": "b41bb6be",
   "metadata": {},
   "outputs": [
    {
     "name": "stdout",
     "output_type": "stream",
     "text": [
      "false\n",
      "true\n",
      "a\n",
      "a\n",
      "X small fish\n",
      "X small fish\n"
     ]
    }
   ],
   "source": [
    "var str = 'a small fish';\n",
    "\n",
    "var regex1 = new RegExp('\\u{61}');\n",
    "var regex2 = new RegExp('\\u{61}', 'u');\n",
    "\n",
    "console.log(regex1.unicode);\n",
    "// expected output: false\n",
    "\n",
    "console.log(regex2.unicode);\n",
    "// expected output: true\n",
    "\n",
    "console.log(regex1.source);\n",
    "// expected output: \"a\"\n",
    "\n",
    "console.log(regex2.source);\n",
    "// expected output: \"a\"\n",
    "\n",
    "console.log( str.replace(regex1, 'X') );\n",
    "console.log( str.replace(regex2, 'X') );"
   ]
  },
  {
   "cell_type": "markdown",
   "id": "71d25dd8",
   "metadata": {},
   "source": [
    "### y Flag "
   ]
  },
  {
   "cell_type": "markdown",
   "id": "7b7a0d2f",
   "metadata": {},
   "source": [
    "Perform a \"sticky\" search that matches starting at the current position in the target string."
   ]
  },
  {
   "cell_type": "markdown",
   "id": "eac2aa79",
   "metadata": {},
   "source": [
    "##### Corresponding property: RegExp.prototype.sticky"
   ]
  },
  {
   "cell_type": "markdown",
   "id": "edf706ef",
   "metadata": {},
   "source": [
    "First see what happens when using the global flag. "
   ]
  },
  {
   "cell_type": "code",
   "execution_count": 18,
   "id": "0283824c",
   "metadata": {},
   "outputs": [],
   "source": [
    "var message = \"Today, the man and the dog went to the park.\"\n",
    "\n",
    "var pattern = /the [a-zA-Z]+/g;"
   ]
  },
  {
   "cell_type": "code",
   "execution_count": 20,
   "id": "4b349f86",
   "metadata": {},
   "outputs": [
    {
     "name": "stdout",
     "output_type": "stream",
     "text": [
      "Today, X and X went to X.\n"
     ]
    }
   ],
   "source": [
    "console.log( message.replace(pattern, 'X') );"
   ]
  },
  {
   "cell_type": "markdown",
   "id": "77ba5f44",
   "metadata": {},
   "source": [
    "The search is the word (the), space( ), and many letters. With the Sticky Flag set the system look for match at the Last Index. The system does not look for match any other place in the sentence.  "
   ]
  },
  {
   "cell_type": "code",
   "execution_count": 24,
   "id": "1705400c",
   "metadata": {},
   "outputs": [],
   "source": [
    "var message = \"Today, the man and the dog went to the park.\"\n",
    "\n",
    "var pattern = /the [a-zA-Z]+/y;"
   ]
  },
  {
   "cell_type": "code",
   "execution_count": 25,
   "id": "e9b5e1a7",
   "metadata": {},
   "outputs": [
    {
     "name": "stdout",
     "output_type": "stream",
     "text": [
      "0\n"
     ]
    }
   ],
   "source": [
    "console.log(pattern.lastIndex); "
   ]
  },
  {
   "cell_type": "code",
   "execution_count": 26,
   "id": "693dd578",
   "metadata": {},
   "outputs": [
    {
     "name": "stdout",
     "output_type": "stream",
     "text": [
      "null\n"
     ]
    }
   ],
   "source": [
    "console.log(pattern.exec(message));\n"
   ]
  },
  {
   "cell_type": "markdown",
   "id": "506c082d",
   "metadata": {},
   "source": [
    "The system look at second the in the sentence. If does not find match to that location the system does not scan the sentence for other matches. "
   ]
  },
  {
   "cell_type": "code",
   "execution_count": 27,
   "id": "350effbf",
   "metadata": {},
   "outputs": [],
   "source": [
    "var message = \"Today, the man and the dog went to the park.\"\n",
    "\n",
    "var pattern = /the [a-zA-Z]+/y;"
   ]
  },
  {
   "cell_type": "code",
   "execution_count": 28,
   "id": "810f8cdf",
   "metadata": {},
   "outputs": [
    {
     "data": {
      "text/plain": [
       "19"
      ]
     },
     "execution_count": 28,
     "metadata": {},
     "output_type": "execute_result"
    }
   ],
   "source": [
    "pattern.lastIndex = 19;"
   ]
  },
  {
   "cell_type": "code",
   "execution_count": 29,
   "id": "dad4ce14",
   "metadata": {},
   "outputs": [
    {
     "name": "stdout",
     "output_type": "stream",
     "text": [
      "[\n",
      "  'the dog',\n",
      "  index: 19,\n",
      "  input: 'Today, the man and the dog went to the park.',\n",
      "  groups: undefined\n",
      "]\n"
     ]
    }
   ],
   "source": [
    "console.log(pattern.exec(message)); // \"the dog\""
   ]
  },
  {
   "cell_type": "markdown",
   "id": "e9259819",
   "metadata": {},
   "source": [
    "The Last Index gets move to 'g'in dog which is the 26 character"
   ]
  },
  {
   "cell_type": "code",
   "execution_count": 30,
   "id": "c0192d64",
   "metadata": {},
   "outputs": [
    {
     "name": "stdout",
     "output_type": "stream",
     "text": [
      "26\n"
     ]
    }
   ],
   "source": [
    "console.log(pattern.lastIndex);"
   ]
  },
  {
   "cell_type": "markdown",
   "id": "b2bbe95e",
   "metadata": {},
   "source": [
    "See the system is looking for 'the xxx+' after 'the dog' no other places. "
   ]
  },
  {
   "cell_type": "code",
   "execution_count": 31,
   "id": "be34a0ab",
   "metadata": {},
   "outputs": [
    {
     "name": "stdout",
     "output_type": "stream",
     "text": [
      "null\n"
     ]
    }
   ],
   "source": [
    "console.log(pattern.exec(message));"
   ]
  },
  {
   "cell_type": "markdown",
   "id": "620a9f37",
   "metadata": {},
   "source": [
    "# Groups and ranges"
   ]
  },
  {
   "cell_type": "markdown",
   "id": "f8cbe5d9",
   "metadata": {},
   "source": [
    "### (x|y)"
   ]
  },
  {
   "cell_type": "markdown",
   "id": "50ae1b22",
   "metadata": {},
   "source": [
    "Matches either \"x\" or \"y\". For example, /green|red/ matches \"green\" in \"green apple\" and \"red\" in \"red apple\"."
   ]
  },
  {
   "cell_type": "code",
   "execution_count": 56,
   "id": "fb1437a8",
   "metadata": {},
   "outputs": [
    {
     "name": "stdout",
     "output_type": "stream",
     "text": [
      "re apple, X apple, X apple, X apple, gren apple, gr apple, blue apple, yellow apple\n"
     ]
    }
   ],
   "source": [
    "var str = \"re apple, green apple, red apple, green apple, gren apple, gr apple, blue apple, yellow apple\";\n",
    "var regex = /(red|green)/g;\n",
    "\n",
    "console.log( str.replace(regex, 'X') );"
   ]
  },
  {
   "cell_type": "markdown",
   "id": "c80b1941",
   "metadata": {},
   "source": [
    "### [xyz]        \n",
    "### [a-c]"
   ]
  },
  {
   "cell_type": "markdown",
   "id": "d91da63d",
   "metadata": {},
   "source": [
    "A character class. Matches any one of the enclosed characters. You can specify a range of characters by using a hyphen, but if the hyphen appears as the first or last character enclosed in the square brackets it is taken as a literal hyphen to be included in the character class as a normal character.\n",
    "\n",
    "For example, [abcd] is the same as [a-d]. They match the \"b\" in \"brisket\", and the \"c\" in \"chop\".\n",
    "\n",
    "For example, [abcd-] and [-abcd] match the \"b\" in \"brisket\", the \"c\" in \"chop\", and the \"-\" (hyphen) in \"non-profit\"."
   ]
  },
  {
   "cell_type": "code",
   "execution_count": 47,
   "id": "1504a219",
   "metadata": {},
   "outputs": [
    {
     "name": "stdout",
     "output_type": "stream",
     "text": [
      "WXth nX rXvXrs Xr wXlls fXr frXsh wXtXr\n"
     ]
    }
   ],
   "source": [
    "var str = \"With no rivers or wells for fresh water\";\n",
    "var regex = /[aeiouy]/g;\n",
    "\n",
    "console.log( str.replace(regex, 'X') );"
   ]
  },
  {
   "cell_type": "code",
   "execution_count": 48,
   "id": "20eef7e1",
   "metadata": {},
   "outputs": [
    {
     "name": "stdout",
     "output_type": "stream",
     "text": [
      "Xrisket Xhop nonXprofit\n"
     ]
    }
   ],
   "source": [
    "var str = \"brisket chop non-profit\";\n",
    "var regex = /[a-d-]/g;\n",
    "\n",
    "console.log( str.replace(regex, 'X') );"
   ]
  },
  {
   "cell_type": "markdown",
   "id": "b2a99875",
   "metadata": {},
   "source": [
    "### [^xyz]     \n",
    "### [^a-c]     "
   ]
  },
  {
   "cell_type": "markdown",
   "id": "a96a6b9f",
   "metadata": {},
   "source": [
    "A negated or complemented character class. That is, it matches anything that is not enclosed in the brackets. You can specify a range of characters by using a hyphen, but if the hyphen appears as the first or last character enclosed in the square brackets it is taken as a literal hyphen to be included in the character class as a normal character. For example, [^abc] is the same as [^a-c]. They initially match \"o\" in \"bacon\" and \"h\" in \"chop\"."
   ]
  },
  {
   "cell_type": "code",
   "execution_count": 34,
   "id": "6cffb863",
   "metadata": {},
   "outputs": [
    {
     "name": "stdout",
     "output_type": "stream",
     "text": [
      "bacXXXcXXXXaXXXXXXXXXXX\n"
     ]
    }
   ],
   "source": [
    "var str = \"bacon chop a non-profit\";\n",
    "var regex = /[^a-c]/g;\n",
    "\n",
    "console.log( str.replace(regex, 'X') );"
   ]
  },
  {
   "cell_type": "code",
   "execution_count": 51,
   "id": "7c1f1969",
   "metadata": {},
   "outputs": [
    {
     "name": "stdout",
     "output_type": "stream",
     "text": [
      "XXiXXeXXXXoXXXoXXXXoXiX\n"
     ]
    }
   ],
   "source": [
    "var str = \"brisket chop non-profit\";\n",
    "var regex = /[^aeiouy]/g;\n",
    "\n",
    "console.log( str.replace(regex, 'X') );"
   ]
  },
  {
   "cell_type": "markdown",
   "id": "15a218fb",
   "metadata": {},
   "source": [
    "### (x)"
   ]
  },
  {
   "cell_type": "markdown",
   "id": "a7a3be7b",
   "metadata": {},
   "source": [
    "Capturing group: Matches x and remembers the match. For example, /(foo)/ matches and remembers \"foo\" in \"foo bar\". \n",
    "\n",
    "A regular expression may have multiple capturing groups. In results, matches to capturing groups typically in an array whose members are in the same order as the left parentheses in the capturing group. This is usually just the order of the capturing groups themselves. This becomes important when capturing groups are nested. Matches are accessed using the index of the result's elements ([1], ..., [n]) or from the predefined RegExp object's properties ($1, ..., $9)."
   ]
  },
  {
   "cell_type": "markdown",
   "id": "41f9190b",
   "metadata": {},
   "source": [
    "(abc){3} matches abcabcabc. "
   ]
  },
  {
   "cell_type": "code",
   "execution_count": 35,
   "id": "c792ead0",
   "metadata": {},
   "outputs": [
    {
     "name": "stdout",
     "output_type": "stream",
     "text": [
      "X is look for\n"
     ]
    }
   ],
   "source": [
    "var str = \"abcabcabc is look for\";\n",
    "var regex = /(abc){3}/g;\n",
    "\n",
    "console.log( str.replace(regex, 'X') );"
   ]
  },
  {
   "cell_type": "markdown",
   "id": "955f6052",
   "metadata": {},
   "source": [
    "Without parentheses, the pattern go+ means g character, followed by o repeated one or more times. For instance, goooo or gooooooooo.\n",
    "\n",
    "Parentheses group characters together, so (go)+ means go, gogo, gogogo and so on."
   ]
  },
  {
   "cell_type": "code",
   "execution_count": 38,
   "id": "7236c67d",
   "metadata": {},
   "outputs": [
    {
     "name": "stdout",
     "output_type": "stream",
     "text": [
      "X or X\n"
     ]
    }
   ],
   "source": [
    "var str = \"goooo or gooooooooo\";\n",
    "var regex = /go+/g;\n",
    "\n",
    "console.log( str.replace(regex, 'X') );"
   ]
  },
  {
   "cell_type": "code",
   "execution_count": 39,
   "id": "ecaddc04",
   "metadata": {},
   "outputs": [
    {
     "name": "stdout",
     "output_type": "stream",
     "text": [
      "X, X, X\n"
     ]
    }
   ],
   "source": [
    "var str = \"go, gogo, gogogo, \";\n",
    "var regex = /(go)+/g;\n",
    "\n",
    "console.log( str.replace(regex, 'X') );"
   ]
  },
  {
   "cell_type": "markdown",
   "id": "7215d978",
   "metadata": {},
   "source": [
    "Matches are accessed using the index of the result's elements ([1], ..., [n]) "
   ]
  },
  {
   "cell_type": "code",
   "execution_count": 2,
   "id": "14aff42a",
   "metadata": {},
   "outputs": [
    {
     "name": "stdout",
     "output_type": "stream",
     "text": [
      "Hello John Doe\n",
      "Hello Jane Smith\n"
     ]
    }
   ],
   "source": [
    "var personList = `First_Name: John, Last_Name: Doe\n",
    "First_Name: Jane, Last_Name: Smith`;\n",
    "\n",
    "var regexpNames =  /First_Name: (\\w+), Last_Name: (\\w+)/mg;\n",
    "var match = regexpNames.exec(personList);\n",
    "do {\n",
    "  console.log(`Hello ${match[1]} ${match[2]}`);\n",
    "} while((match = regexpNames.exec(personList)) !== null);"
   ]
  },
  {
   "cell_type": "markdown",
   "id": "a1a90432",
   "metadata": {},
   "source": [
    "### \\nth"
   ]
  },
  {
   "cell_type": "markdown",
   "id": "cb13d96c",
   "metadata": {},
   "source": [
    "Where \"n\" is a positive integer. \\1 refers to the first capturing group in the regular expression. \\2 will refer to the second capturing group and \\n will refer to an nth capturing group.               \n",
    "Where \"n\" is a positive integer. A back reference to the last substring matching the n parenthetical in the regular expression (counting left parentheses). "
   ]
  },
  {
   "cell_type": "markdown",
   "id": "cb6f61cb",
   "metadata": {},
   "source": [
    "### Example"
   ]
  },
  {
   "cell_type": "markdown",
   "id": "77e7e561",
   "metadata": {},
   "source": [
    "For example, /apple(,)\\sorange\\1/ matches \"apple, orange,\" in \"apple, orange, cherry, peach\"."
   ]
  },
  {
   "cell_type": "markdown",
   "id": "47348bc5",
   "metadata": {},
   "source": [
    "**Where \\1 = ,**"
   ]
  },
  {
   "cell_type": "code",
   "execution_count": 13,
   "id": "240c6439",
   "metadata": {},
   "outputs": [
    {
     "name": "stdout",
     "output_type": "stream",
     "text": [
      "X cherry, peach\n"
     ]
    }
   ],
   "source": [
    "var str = \"apple, orange, cherry, peach\";\n",
    "var regex = /apple(,)\\sorange\\1/;\n",
    "\n",
    "console.log( str.replace(regex, 'X') );"
   ]
  },
  {
   "cell_type": "markdown",
   "id": "45a7dc34",
   "metadata": {},
   "source": [
    "**Where \\1 = ,**"
   ]
  },
  {
   "cell_type": "code",
   "execution_count": 15,
   "id": "177b1a59",
   "metadata": {},
   "outputs": [
    {
     "name": "stdout",
     "output_type": "stream",
     "text": [
      "X cherry, peach\n"
     ]
    }
   ],
   "source": [
    "var str = \"apple, orange, orange, cherry, peach\";\n",
    "var regex = /apple(,)\\sorange\\1\\sorange\\1/;\n",
    "\n",
    "console.log( str.replace(regex, 'X') );"
   ]
  },
  {
   "cell_type": "markdown",
   "id": "ee75b246",
   "metadata": {},
   "source": [
    "**Where \\1 = Mom**"
   ]
  },
  {
   "cell_type": "code",
   "execution_count": 11,
   "id": "8c354c29",
   "metadata": {},
   "outputs": [
    {
     "name": "stdout",
     "output_type": "stream",
     "text": [
      "X is the sentences\n"
     ]
    }
   ],
   "source": [
    "var str = \"Mom loves Mom is the sentences\";\n",
    "var regex = /(Mom) loves \\1/;\n",
    "console.log( str.replace(regex, 'X') );"
   ]
  },
  {
   "cell_type": "markdown",
   "id": "8d33b683",
   "metadata": {},
   "source": [
    "**Where \\2 = loves**"
   ]
  },
  {
   "cell_type": "code",
   "execution_count": 12,
   "id": "2096fb3f",
   "metadata": {},
   "outputs": [
    {
     "name": "stdout",
     "output_type": "stream",
     "text": [
      "X is the sentences\n"
     ]
    }
   ],
   "source": [
    "var str = \"Mom loves loves is the sentences\";\n",
    "var regex = /(Mom) (loves) \\2/;\n",
    "console.log( str.replace(regex, 'X') );"
   ]
  },
  {
   "cell_type": "markdown",
   "id": "76f808a4",
   "metadata": {},
   "source": [
    "# Meta characters"
   ]
  },
  {
   "cell_type": "markdown",
   "id": "61de1c2f",
   "metadata": {},
   "source": [
    "### ."
   ]
  },
  {
   "cell_type": "markdown",
   "id": "c6f736ab",
   "metadata": {},
   "source": [
    "Find a single character, except newline or line terminator"
   ]
  },
  {
   "cell_type": "code",
   "execution_count": 66,
   "id": "70a022d7",
   "metadata": {},
   "outputs": [
    {
     "name": "stdout",
     "output_type": "stream",
     "text": [
      "TX's X!\n"
     ]
    }
   ],
   "source": [
    "var str = \"That's hot!\";\n",
    "var regex = /h.t/g;\n",
    "\n",
    "console.log( str.replace(regex, 'X') );"
   ]
  },
  {
   "cell_type": "markdown",
   "id": "4499ba5a",
   "metadata": {},
   "source": [
    "### \\w"
   ]
  },
  {
   "cell_type": "markdown",
   "id": "16c5e9c9",
   "metadata": {},
   "source": [
    "Find a word character. A word character is a character a-z, A-Z, 0-9, including _ (underscore)."
   ]
  },
  {
   "cell_type": "code",
   "execution_count": 68,
   "id": "f6ca2164",
   "metadata": {},
   "outputs": [
    {
     "name": "stdout",
     "output_type": "stream",
     "text": [
      "XXXX XXX%!\n"
     ]
    }
   ],
   "source": [
    "var str = \"Give 100%!\";\n",
    "var regex  = /\\w/g;\n",
    "\n",
    "console.log( str.replace(regex, 'X') );"
   ]
  },
  {
   "cell_type": "markdown",
   "id": "27d35b1c",
   "metadata": {},
   "source": [
    "### \\W"
   ]
  },
  {
   "cell_type": "markdown",
   "id": "594ded5f",
   "metadata": {},
   "source": [
    "Find a non-word character"
   ]
  },
  {
   "cell_type": "code",
   "execution_count": 69,
   "id": "8171bdbc",
   "metadata": {},
   "outputs": [
    {
     "name": "stdout",
     "output_type": "stream",
     "text": [
      "GiveX100XX\n"
     ]
    }
   ],
   "source": [
    "var str = \"Give 100%!\";\n",
    "var regex  = /\\W/g;\n",
    "\n",
    "console.log( str.replace(regex, 'X') );"
   ]
  },
  {
   "cell_type": "markdown",
   "id": "a82474ae",
   "metadata": {},
   "source": [
    "### \\d"
   ]
  },
  {
   "cell_type": "markdown",
   "id": "c9fb2731",
   "metadata": {},
   "source": [
    "Find a digit"
   ]
  },
  {
   "cell_type": "code",
   "execution_count": 73,
   "id": "b839e9d0",
   "metadata": {},
   "outputs": [
    {
     "name": "stdout",
     "output_type": "stream",
     "text": [
      "Give XXX%!\n"
     ]
    }
   ],
   "source": [
    "var str = \"Give 100%!\";\n",
    "var regex  = /\\d/g;\n",
    "\n",
    "console.log( str.replace(regex, 'X') );"
   ]
  },
  {
   "cell_type": "markdown",
   "id": "e06bd08b",
   "metadata": {},
   "source": [
    "### \\D"
   ]
  },
  {
   "cell_type": "markdown",
   "id": "9a8739a4",
   "metadata": {},
   "source": [
    "Find a non-digit character"
   ]
  },
  {
   "cell_type": "code",
   "execution_count": 74,
   "id": "0de08d3f",
   "metadata": {},
   "outputs": [
    {
     "name": "stdout",
     "output_type": "stream",
     "text": [
      "XXXXX100XX\n"
     ]
    }
   ],
   "source": [
    "var str = \"Give 100%!\";\n",
    "var regex  = /\\D/g;\n",
    "\n",
    "console.log( str.replace(regex, 'X') );"
   ]
  },
  {
   "cell_type": "markdown",
   "id": "efb3129e",
   "metadata": {},
   "source": [
    "### \\s"
   ]
  },
  {
   "cell_type": "markdown",
   "id": "7617ebbb",
   "metadata": {},
   "source": [
    "Find a whitespace character"
   ]
  },
  {
   "cell_type": "code",
   "execution_count": 75,
   "id": "8b9ec8f4",
   "metadata": {},
   "outputs": [
    {
     "name": "stdout",
     "output_type": "stream",
     "text": [
      "GiveX100%!\n"
     ]
    }
   ],
   "source": [
    "var str = \"Give 100%!\";\n",
    "var regex  = /\\s/g;\n",
    "\n",
    "console.log( str.replace(regex, 'X') );"
   ]
  },
  {
   "cell_type": "markdown",
   "id": "986379bd",
   "metadata": {},
   "source": [
    "### \\S"
   ]
  },
  {
   "cell_type": "markdown",
   "id": "16fa327f",
   "metadata": {},
   "source": [
    "Find a non-whitespace character"
   ]
  },
  {
   "cell_type": "code",
   "execution_count": 76,
   "id": "fb794dae",
   "metadata": {},
   "outputs": [
    {
     "name": "stdout",
     "output_type": "stream",
     "text": [
      "XXXX XXXXX\n"
     ]
    }
   ],
   "source": [
    "var str = \"Give 100%!\";\n",
    "var regex  = /\\S/g;\n",
    "\n",
    "console.log( str.replace(regex, 'X') );"
   ]
  },
  {
   "cell_type": "markdown",
   "id": "cccd348c",
   "metadata": {},
   "source": [
    "### \\b"
   ]
  },
  {
   "cell_type": "markdown",
   "id": "88402646",
   "metadata": {},
   "source": [
    "Find a match at the beginning/end of a word"
   ]
  },
  {
   "cell_type": "markdown",
   "id": "2127f11a",
   "metadata": {},
   "source": [
    "Search for the pattern LO at the beginning of a word like this:"
   ]
  },
  {
   "cell_type": "code",
   "execution_count": 77,
   "id": "755b4676",
   "metadata": {},
   "outputs": [
    {
     "name": "stdout",
     "output_type": "stream",
     "text": [
      "HELLO, XOK AT YOU\n"
     ]
    }
   ],
   "source": [
    "var str  = \"HELLO, LOOK AT YOU\";\n",
    "var regex = /\\bLO/;\n",
    "\n",
    "console.log( str.replace(regex, 'X') );"
   ]
  },
  {
   "cell_type": "markdown",
   "id": "27486503",
   "metadata": {},
   "source": [
    "Search for the pattern LO at the end of a word like this:"
   ]
  },
  {
   "cell_type": "code",
   "execution_count": 78,
   "id": "73a4fa39",
   "metadata": {},
   "outputs": [
    {
     "name": "stdout",
     "output_type": "stream",
     "text": [
      "HELX, LOOK AT YOU\n"
     ]
    }
   ],
   "source": [
    "var str  = \"HELLO, LOOK AT YOU\";\n",
    "var regex = /LO\\b/;\n",
    "\n",
    "console.log( str.replace(regex, 'X') );"
   ]
  },
  {
   "cell_type": "markdown",
   "id": "ec710619",
   "metadata": {},
   "source": [
    "### \\B"
   ]
  },
  {
   "cell_type": "markdown",
   "id": "69413cf7",
   "metadata": {},
   "source": [
    "Find a match, but not at the beginning/end of a word"
   ]
  },
  {
   "cell_type": "markdown",
   "id": "693655af",
   "metadata": {},
   "source": [
    "Search for the pattern LO, not at the beginning of a word like this:"
   ]
  },
  {
   "cell_type": "code",
   "execution_count": 79,
   "id": "7b72eaf1",
   "metadata": {},
   "outputs": [
    {
     "name": "stdout",
     "output_type": "stream",
     "text": [
      "HELX, LOOK AT YOU\n"
     ]
    }
   ],
   "source": [
    "var str  = \"HELLO, LOOK AT YOU\";\n",
    "var regex = /\\BLO/;\n",
    "\n",
    "console.log( str.replace(regex, 'X') );"
   ]
  },
  {
   "cell_type": "markdown",
   "id": "c5a0b2a3",
   "metadata": {},
   "source": [
    "Search for the pattern LO, not at the end of a word like this:"
   ]
  },
  {
   "cell_type": "code",
   "execution_count": 80,
   "id": "e72c3d6b",
   "metadata": {},
   "outputs": [
    {
     "name": "stdout",
     "output_type": "stream",
     "text": [
      "HELLO, XOK AT YOU\n"
     ]
    }
   ],
   "source": [
    "var str  = \"HELLO, LOOK AT YOU\";\n",
    "var regex = /LO\\B/;\n",
    "\n",
    "console.log( str.replace(regex, 'X') );"
   ]
  },
  {
   "cell_type": "markdown",
   "id": "aea1bb6a",
   "metadata": {},
   "source": [
    "### \\0"
   ]
  },
  {
   "cell_type": "markdown",
   "id": "4295b991",
   "metadata": {},
   "source": [
    "Find a NULL character"
   ]
  },
  {
   "cell_type": "code",
   "execution_count": 81,
   "id": "90bd6b94",
   "metadata": {},
   "outputs": [
    {
     "name": "stdout",
     "output_type": "stream",
     "text": [
      "Visit W3Schools.XLearn Javascript.\n"
     ]
    }
   ],
   "source": [
    "var str  = \"Visit W3Schools.\\0Learn Javascript.\";\n",
    "var regex  = /\\0/;\n",
    "\n",
    "console.log( str.replace(regex, 'X') );"
   ]
  },
  {
   "cell_type": "markdown",
   "id": "2c5c52b1",
   "metadata": {},
   "source": [
    "### \\n"
   ]
  },
  {
   "cell_type": "markdown",
   "id": "c5a4fda0",
   "metadata": {},
   "source": [
    "Find a new line character"
   ]
  },
  {
   "cell_type": "code",
   "execution_count": 82,
   "id": "b3dca30e",
   "metadata": {},
   "outputs": [
    {
     "name": "stdout",
     "output_type": "stream",
     "text": [
      "Visit W3Schools.XLearn Javascript.\n"
     ]
    }
   ],
   "source": [
    "var str  = \"Visit W3Schools.\\nLearn Javascript.\";\n",
    "var regex  = /\\n/;\n",
    "\n",
    "console.log( str.replace(regex, 'X') );"
   ]
  },
  {
   "cell_type": "markdown",
   "id": "6e889a48",
   "metadata": {},
   "source": [
    "### \\f"
   ]
  },
  {
   "cell_type": "markdown",
   "id": "ccf2433d",
   "metadata": {},
   "source": [
    "Find a form feed character"
   ]
  },
  {
   "cell_type": "code",
   "execution_count": 83,
   "id": "02e1f6ff",
   "metadata": {},
   "outputs": [
    {
     "name": "stdout",
     "output_type": "stream",
     "text": [
      "Visit W3Schools.XLearn Javascript.\n"
     ]
    }
   ],
   "source": [
    "var str  = \"Visit W3Schools.\\fLearn Javascript.\";\n",
    "var regex  = /\\f/;\n",
    "\n",
    "console.log( str.replace(regex, 'X') );"
   ]
  },
  {
   "cell_type": "markdown",
   "id": "804ee747",
   "metadata": {},
   "source": [
    "### \\r"
   ]
  },
  {
   "cell_type": "markdown",
   "id": "116fb490",
   "metadata": {},
   "source": [
    "Find a carriage return character"
   ]
  },
  {
   "cell_type": "code",
   "execution_count": 84,
   "id": "c8de51ae",
   "metadata": {},
   "outputs": [
    {
     "name": "stdout",
     "output_type": "stream",
     "text": [
      "Visit W3Schools.XLearn Javascript.\n"
     ]
    }
   ],
   "source": [
    "var str  = \"Visit W3Schools.\\rLearn Javascript.\";\n",
    "var regex  = /\\r/;\n",
    "\n",
    "console.log( str.replace(regex, 'X') );"
   ]
  },
  {
   "cell_type": "markdown",
   "id": "a27b0a56",
   "metadata": {},
   "source": [
    "### \\t"
   ]
  },
  {
   "cell_type": "markdown",
   "id": "a6cb08ff",
   "metadata": {},
   "source": [
    "Find a tab character"
   ]
  },
  {
   "cell_type": "code",
   "execution_count": null,
   "id": "6743f09a",
   "metadata": {},
   "outputs": [],
   "source": [
    "var str  = \"Visit W3Schools.\\tLearn Javascript.\";\n",
    "var regex  = /\\t/;\n",
    "\n",
    "console.log( str.replace(regex, 'X') );"
   ]
  },
  {
   "cell_type": "markdown",
   "id": "5518ea27",
   "metadata": {},
   "source": [
    "### \\v"
   ]
  },
  {
   "cell_type": "markdown",
   "id": "fc4a26b3",
   "metadata": {},
   "source": [
    "Find a vertical tab character"
   ]
  },
  {
   "cell_type": "code",
   "execution_count": 85,
   "id": "adc821b2",
   "metadata": {},
   "outputs": [
    {
     "name": "stdout",
     "output_type": "stream",
     "text": [
      "Visit W3Schools.XLearn Javascript.\n"
     ]
    }
   ],
   "source": [
    "var str  = \"Visit W3Schools.\\vLearn Javascript.\";\n",
    "var regex  = /\\v/;\n",
    "\n",
    "console.log( str.replace(regex, 'X') );"
   ]
  },
  {
   "cell_type": "markdown",
   "id": "4819ad7b",
   "metadata": {},
   "source": [
    "### \\xxx"
   ]
  },
  {
   "cell_type": "markdown",
   "id": "689fa253",
   "metadata": {},
   "source": [
    "Find the character specified by an octal number xxx"
   ]
  },
  {
   "cell_type": "code",
   "execution_count": null,
   "id": "a3181b83",
   "metadata": {},
   "outputs": [],
   "source": [
    "Do a global search for octal number 127 (W) in a string:"
   ]
  },
  {
   "cell_type": "code",
   "execution_count": 86,
   "id": "90f07e35",
   "metadata": {},
   "outputs": [
    {
     "name": "stdout",
     "output_type": "stream",
     "text": [
      "Visit X3Schools. Hello Xorld!\n"
     ]
    }
   ],
   "source": [
    "var str  = \"Visit W3Schools. Hello World!\";\n",
    "var regex  = /\\127/g;\n",
    "\n",
    "console.log( str.replace(regex, 'X') );"
   ]
  },
  {
   "cell_type": "markdown",
   "id": "a8a30ef2",
   "metadata": {},
   "source": [
    "### \\xdd"
   ]
  },
  {
   "cell_type": "markdown",
   "id": "436e277c",
   "metadata": {},
   "source": [
    "Find the character specified by a hexadecimal number dd"
   ]
  },
  {
   "cell_type": "markdown",
   "id": "1c27f054",
   "metadata": {},
   "source": [
    "Do a global search for the hexadecimal number 57 (W) in a string:"
   ]
  },
  {
   "cell_type": "code",
   "execution_count": 87,
   "id": "9b2b35e3",
   "metadata": {},
   "outputs": [
    {
     "name": "stdout",
     "output_type": "stream",
     "text": [
      "Visit X3Schools. Hello Xorld!\n"
     ]
    }
   ],
   "source": [
    "var str  = \"Visit W3Schools. Hello World!\";\n",
    "var regex  = /\\x57/g;\n",
    "\n",
    "console.log( str.replace(regex, 'X') );"
   ]
  },
  {
   "cell_type": "markdown",
   "id": "268537d6",
   "metadata": {},
   "source": [
    "### \\udddd"
   ]
  },
  {
   "cell_type": "markdown",
   "id": "e7a95dd0",
   "metadata": {},
   "source": [
    "Find the Unicode character specified by a hexadecimal number dddd"
   ]
  },
  {
   "cell_type": "markdown",
   "id": "c71ff0a1",
   "metadata": {},
   "source": [
    "Do a global search for the hexadecimal number 0057 (W) in a string:"
   ]
  },
  {
   "cell_type": "code",
   "execution_count": 88,
   "id": "f9432014",
   "metadata": {},
   "outputs": [
    {
     "name": "stdout",
     "output_type": "stream",
     "text": [
      "Visit X3Schools. Hello Xorld!\n"
     ]
    }
   ],
   "source": [
    "var str  = \"Visit W3Schools. Hello World!\";\n",
    "var regex  = /\\u0057/g;\n",
    "\n",
    "console.log( str.replace(regex, 'X') );"
   ]
  },
  {
   "cell_type": "markdown",
   "id": "4983abf4",
   "metadata": {},
   "source": [
    "# Quantifiers"
   ]
  },
  {
   "cell_type": "markdown",
   "id": "c4fc662d",
   "metadata": {},
   "source": [
    "### n+"
   ]
  },
  {
   "cell_type": "markdown",
   "id": "94351e2b",
   "metadata": {},
   "source": [
    "Matches any string that contains at least one n"
   ]
  },
  {
   "cell_type": "code",
   "execution_count": 89,
   "id": "b8770896",
   "metadata": {},
   "outputs": [
    {
     "name": "stdout",
     "output_type": "stream",
     "text": [
      "HellX WXrld! HellX W3SchXls!\n"
     ]
    }
   ],
   "source": [
    "var str  = \"Hellooo World! Hello W3Schools!\";\n",
    "var regex  = /o+/g;\n",
    "\n",
    "console.log( str.replace(regex, 'X') );"
   ]
  },
  {
   "cell_type": "markdown",
   "id": "0398beb3",
   "metadata": {},
   "source": [
    "### n*"
   ]
  },
  {
   "cell_type": "markdown",
   "id": "4692dfbd",
   "metadata": {},
   "source": [
    "Matches any string that contains zero or more occurrences of n"
   ]
  },
  {
   "cell_type": "markdown",
   "id": "e155ad87",
   "metadata": {},
   "source": [
    "A global search for a \"1\", followed by zero or more \"0\" characters:"
   ]
  },
  {
   "cell_type": "code",
   "execution_count": 90,
   "id": "8469f776",
   "metadata": {},
   "outputs": [
    {
     "name": "stdout",
     "output_type": "stream",
     "text": [
      "X, X or X?\n"
     ]
    }
   ],
   "source": [
    "var str  = \"1, 100 or 1000?\";\n",
    "var regex  = /10*/g;\n",
    "\n",
    "console.log( str.replace(regex, 'X') );"
   ]
  },
  {
   "cell_type": "markdown",
   "id": "86021d6f",
   "metadata": {},
   "source": [
    "### n?"
   ]
  },
  {
   "cell_type": "markdown",
   "id": "f81561f6",
   "metadata": {},
   "source": [
    "Matches any string that contains zero or one occurrences of n"
   ]
  },
  {
   "cell_type": "markdown",
   "id": "fa32be40",
   "metadata": {},
   "source": [
    "Do a global search for a \"1\", followed by zero or one \"0\" characters:"
   ]
  },
  {
   "cell_type": "code",
   "execution_count": 91,
   "id": "11334b22",
   "metadata": {},
   "outputs": [
    {
     "name": "stdout",
     "output_type": "stream",
     "text": [
      "X, X0 or X00?\n"
     ]
    }
   ],
   "source": [
    "var str  = \"1, 100 or 1000?\";\n",
    "var regex  = /10?/g;\n",
    "\n",
    "console.log( str.replace(regex, 'X') );"
   ]
  },
  {
   "cell_type": "markdown",
   "id": "19d09cde",
   "metadata": {},
   "source": [
    "### n{X}"
   ]
  },
  {
   "cell_type": "markdown",
   "id": "d9a32fbc",
   "metadata": {},
   "source": [
    "Matches any string that contains a sequence of X n's"
   ]
  },
  {
   "cell_type": "code",
   "execution_count": 92,
   "id": "8e48dcd6",
   "metadata": {},
   "outputs": [
    {
     "name": "stdout",
     "output_type": "stream",
     "text": [
      "100, X or X0?\n"
     ]
    }
   ],
   "source": [
    "var str  = \"100, 1000 or 10000?\";\n",
    "var regex  = /\\d{4}/g;\n",
    "\n",
    "console.log( str.replace(regex, 'X') );"
   ]
  },
  {
   "cell_type": "markdown",
   "id": "c5b8c08d",
   "metadata": {},
   "source": [
    "### n{X,Y} "
   ]
  },
  {
   "cell_type": "markdown",
   "id": "addde200",
   "metadata": {},
   "source": [
    "Matches any string that contains a sequence of X to Y n's"
   ]
  },
  {
   "cell_type": "markdown",
   "id": "cf0a9c62",
   "metadata": {},
   "source": [
    "A global search for a substring that contains a sequence of three to four digits:"
   ]
  },
  {
   "cell_type": "code",
   "execution_count": 93,
   "id": "4cc31909",
   "metadata": {},
   "outputs": [
    {
     "name": "stdout",
     "output_type": "stream",
     "text": [
      "X, X or X0?\n"
     ]
    }
   ],
   "source": [
    "var str  = \"100, 1000 or 10000?\";\n",
    "var regex  = /\\d{3,4}/g;\n",
    "\n",
    "console.log( str.replace(regex, 'X') );"
   ]
  },
  {
   "cell_type": "markdown",
   "id": "c19545ea",
   "metadata": {},
   "source": [
    "### n{X,}"
   ]
  },
  {
   "cell_type": "markdown",
   "id": "e4a34f3d",
   "metadata": {},
   "source": [
    "Matches any string that contains a sequence of at least X n's"
   ]
  },
  {
   "cell_type": "markdown",
   "id": "42759422",
   "metadata": {},
   "source": [
    "A global search for a sequence of at least three digits:"
   ]
  },
  {
   "cell_type": "code",
   "execution_count": 95,
   "id": "4a136967",
   "metadata": {},
   "outputs": [
    {
     "name": "stdout",
     "output_type": "stream",
     "text": [
      "10, X, X or X?\n"
     ]
    }
   ],
   "source": [
    "var str  = \"10, 100, 1000 or 10000?\";\n",
    "var regex  = /\\d{3,}/g;\n",
    "\n",
    "console.log( str.replace(regex, 'X') );"
   ]
  },
  {
   "cell_type": "markdown",
   "id": "abda4d66",
   "metadata": {},
   "source": [
    "### n$"
   ]
  },
  {
   "cell_type": "markdown",
   "id": "03541481",
   "metadata": {},
   "source": [
    "Matches any string with n at the end of it"
   ]
  },
  {
   "cell_type": "code",
   "execution_count": 96,
   "id": "7e456537",
   "metadata": {},
   "outputs": [
    {
     "name": "stdout",
     "output_type": "stream",
     "text": [
      "Is this hX\n"
     ]
    }
   ],
   "source": [
    "var str  = \"Is this his\";\n",
    "var regex  = /is$/;\n",
    "\n",
    "console.log( str.replace(regex, 'X') );"
   ]
  },
  {
   "cell_type": "markdown",
   "id": "6e8050a3",
   "metadata": {},
   "source": [
    "### ^n"
   ]
  },
  {
   "cell_type": "markdown",
   "id": "381dbce3",
   "metadata": {},
   "source": [
    "Matches any string with n at the beginning of it"
   ]
  },
  {
   "cell_type": "code",
   "execution_count": 97,
   "id": "53f9b26d",
   "metadata": {},
   "outputs": [
    {
     "name": "stdout",
     "output_type": "stream",
     "text": [
      "X this his\n"
     ]
    }
   ],
   "source": [
    "var str  = \"Is this his\";\n",
    "var regex  = /^Is/g;\n",
    "\n",
    "console.log( str.replace(regex, 'X') );"
   ]
  },
  {
   "cell_type": "markdown",
   "id": "d3dfbc61",
   "metadata": {},
   "source": [
    "### ?=n"
   ]
  },
  {
   "cell_type": "markdown",
   "id": "10f56867",
   "metadata": {},
   "source": [
    "Matches any string that is followed by a specific string n"
   ]
  },
  {
   "cell_type": "markdown",
   "id": "58f562c3",
   "metadata": {},
   "source": [
    "A search for \"is\" followed by \" all\":"
   ]
  },
  {
   "cell_type": "code",
   "execution_count": 98,
   "id": "7c45eb4a",
   "metadata": {},
   "outputs": [
    {
     "name": "stdout",
     "output_type": "stream",
     "text": [
      "Is thX all there is\n"
     ]
    }
   ],
   "source": [
    "var str  = \"Is this all there is\";\n",
    "var regex  = /is(?= all)/g;\n",
    "\n",
    "console.log( str.replace(regex, 'X') )"
   ]
  },
  {
   "cell_type": "markdown",
   "id": "028b68bf",
   "metadata": {},
   "source": [
    "### ?!n"
   ]
  },
  {
   "cell_type": "markdown",
   "id": "13d66c22",
   "metadata": {},
   "source": [
    "Matches any string that is not followed by a specific string n"
   ]
  },
  {
   "cell_type": "code",
   "execution_count": 99,
   "id": "b07c98ca",
   "metadata": {},
   "outputs": [
    {
     "name": "stdout",
     "output_type": "stream",
     "text": [
      "X this all there X\n"
     ]
    }
   ],
   "source": [
    "var str  = \"Is this all there is\";\n",
    "var regex  = /is(?! all)/gi;\n",
    "\n",
    "console.log( str.replace(regex, 'X') )"
   ]
  }
 ],
 "metadata": {
  "kernelspec": {
   "display_name": "Javascript (Node.js)",
   "language": "javascript",
   "name": "javascript"
  },
  "language_info": {
   "file_extension": ".js",
   "mimetype": "application/javascript",
   "name": "javascript",
   "version": "14.18.0"
  }
 },
 "nbformat": 4,
 "nbformat_minor": 5
}
