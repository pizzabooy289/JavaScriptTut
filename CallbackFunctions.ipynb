{
 "cells": [
  {
   "cell_type": "markdown",
   "id": "cb937e8c",
   "metadata": {},
   "source": [
    "A callback function is a function passed into another function as an argument, which is then invoked inside the outer function to complete some kind of routine or action.     \n",
    "        \n",
    "            \n",
    "               "
   ]
  },
  {
   "cell_type": "markdown",
   "id": "8d7725bc",
   "metadata": {},
   "source": [
    "<h1><span style=\"color:red\">CALCULATE EXAMPLE</span></h1>"
   ]
  },
  {
   "cell_type": "markdown",
   "id": "cd3aa885",
   "metadata": {},
   "source": [
    "## METHODS"
   ]
  },
  {
   "cell_type": "markdown",
   "id": "d3828fd9",
   "metadata": {},
   "source": [
    "### Calculate Method\n",
    "\n",
    "**num1** and **num2** are the two numbers math operation to be preform on.           \n",
    "**callback** is math operations ( addition, multiple, and toString ).        "
   ]
  },
  {
   "cell_type": "code",
   "execution_count": 1,
   "id": "4c7011dd",
   "metadata": {},
   "outputs": [],
   "source": [
    "var calculate = function(num1, num2, callback){\n",
    "    if( typeof callback === 'function'){\n",
    "        return callback(num1,num2); // This returns the result from the function which was called\n",
    "    } else {\n",
    "        return \"FUNCTION IS NOT DEFINED.\";\n",
    "    }\n",
    "    \n",
    "};"
   ]
  },
  {
   "cell_type": "markdown",
   "id": "476e14a9",
   "metadata": {},
   "source": [
    "### Addition Method"
   ]
  },
  {
   "cell_type": "code",
   "execution_count": 2,
   "id": "52207aa0",
   "metadata": {},
   "outputs": [],
   "source": [
    "var add = function( num1 , num2){\n",
    "    return num1 + num2;\n",
    "};"
   ]
  },
  {
   "cell_type": "markdown",
   "id": "44608195",
   "metadata": {},
   "source": [
    "### Multiplication Method"
   ]
  },
  {
   "cell_type": "code",
   "execution_count": 3,
   "id": "ec731d5a",
   "metadata": {},
   "outputs": [],
   "source": [
    "var mult = function( num1 , num2){\n",
    "    return num1 * num2;\n",
    "};"
   ]
  },
  {
   "cell_type": "markdown",
   "id": "ace38d5c",
   "metadata": {},
   "source": [
    "### To Stirng Method"
   ]
  },
  {
   "cell_type": "code",
   "execution_count": 4,
   "id": "cbc7db0c",
   "metadata": {},
   "outputs": [],
   "source": [
    "var toSting = function(num1 , num2){\n",
    "    return `First number is: ${num1}, Second Number is: ${num2}`;\n",
    "}"
   ]
  },
  {
   "cell_type": "markdown",
   "id": "b5253bb6",
   "metadata": {},
   "source": [
    "## TESTING"
   ]
  },
  {
   "cell_type": "markdown",
   "id": "7d2229d3",
   "metadata": {},
   "source": [
    "### Testing Addition"
   ]
  },
  {
   "cell_type": "code",
   "execution_count": 5,
   "id": "ba1ffe45",
   "metadata": {},
   "outputs": [
    {
     "name": "stdout",
     "output_type": "stream",
     "text": [
      "8\n"
     ]
    }
   ],
   "source": [
    "console.log( calculate(5 , 3, add) );"
   ]
  },
  {
   "cell_type": "markdown",
   "id": "120a4c8d",
   "metadata": {},
   "source": [
    "### Testing Multiplication"
   ]
  },
  {
   "cell_type": "code",
   "execution_count": 6,
   "id": "ee34fbf6",
   "metadata": {},
   "outputs": [
    {
     "name": "stdout",
     "output_type": "stream",
     "text": [
      "32\n"
     ]
    }
   ],
   "source": [
    "console.log( calculate(4 , 8, mult) );"
   ]
  },
  {
   "cell_type": "markdown",
   "id": "6a3f6200",
   "metadata": {},
   "source": [
    "### Testing To String"
   ]
  },
  {
   "cell_type": "code",
   "execution_count": 7,
   "id": "41bb38c7",
   "metadata": {},
   "outputs": [
    {
     "name": "stdout",
     "output_type": "stream",
     "text": [
      "First number is: 9, Second Number is: 7\n"
     ]
    }
   ],
   "source": [
    "console.log( calculate(9 , 7, toSting) );"
   ]
  },
  {
   "cell_type": "markdown",
   "id": "15213ab8",
   "metadata": {},
   "source": [
    "### Testing Online Substraction"
   ]
  },
  {
   "cell_type": "code",
   "execution_count": 8,
   "id": "4ec5fef0",
   "metadata": {},
   "outputs": [
    {
     "name": "stdout",
     "output_type": "stream",
     "text": [
      "6\n"
     ]
    }
   ],
   "source": [
    "console.log( calculate(8 , 2, function(num1,num2){ \n",
    "                                    return num1-num2;})\n",
    ");"
   ]
  },
  {
   "cell_type": "markdown",
   "id": "837300ff",
   "metadata": {},
   "source": [
    "### Testing Generating Error Message"
   ]
  },
  {
   "cell_type": "code",
   "execution_count": 18,
   "id": "6edd953b",
   "metadata": {},
   "outputs": [
    {
     "name": "stdout",
     "output_type": "stream",
     "text": [
      "FUNCTION IS NOT DEFINED.\n"
     ]
    }
   ],
   "source": [
    "console.log( calculate ( 4 ,5 , \"NOT FUNCTION\") );"
   ]
  },
  {
   "cell_type": "code",
   "execution_count": null,
   "id": "55e7264d",
   "metadata": {},
   "outputs": [],
   "source": []
  }
 ],
 "metadata": {
  "kernelspec": {
   "display_name": "Javascript (Node.js)",
   "language": "javascript",
   "name": "javascript"
  },
  "language_info": {
   "file_extension": ".js",
   "mimetype": "application/javascript",
   "name": "javascript",
   "version": "14.18.0"
  }
 },
 "nbformat": 4,
 "nbformat_minor": 5
}
