{
 "cells": [
  {
   "cell_type": "markdown",
   "id": "8eefc087",
   "metadata": {},
   "source": [
    "<h1><span style=\"color:red\">Arrays Attributes</span></h1>"
   ]
  },
  {
   "cell_type": "markdown",
   "id": "0205a7ce",
   "metadata": {},
   "source": [
    "## Adding function to Array"
   ]
  },
  {
   "cell_type": "code",
   "execution_count": 10,
   "id": "bee85c54",
   "metadata": {},
   "outputs": [],
   "source": [
    "var boys = [\"tom\", \"john\", \"bill\"];"
   ]
  },
  {
   "cell_type": "code",
   "execution_count": 11,
   "id": "20e12296",
   "metadata": {},
   "outputs": [
    {
     "name": "stdout",
     "output_type": "stream",
     "text": [
      "0 tom\n",
      "1 john\n",
      "2 bill\n"
     ]
    }
   ],
   "source": [
    "boys.forEach((item, index)=>{\n",
    "    console.log(index, item)\n",
    "});"
   ]
  },
  {
   "cell_type": "code",
   "execution_count": 12,
   "id": "d96e35b3",
   "metadata": {},
   "outputs": [
    {
     "data": {
      "text/plain": [
       "[Function (anonymous)]"
      ]
     },
     "execution_count": 12,
     "metadata": {},
     "output_type": "execute_result"
    }
   ],
   "source": [
    "boys.swap = function(index1,index2){\n",
    "\n",
    "    var temp = this[index1] ;\n",
    "    this[index1] = this[index2];\n",
    "    this[index2] = temp;\n",
    "};"
   ]
  },
  {
   "cell_type": "code",
   "execution_count": 13,
   "id": "d7919840",
   "metadata": {},
   "outputs": [],
   "source": [
    "boys.swap(1,2);"
   ]
  },
  {
   "cell_type": "code",
   "execution_count": 14,
   "id": "c3bf15fd",
   "metadata": {},
   "outputs": [
    {
     "name": "stdout",
     "output_type": "stream",
     "text": [
      "0 tom\n",
      "1 bill\n",
      "2 john\n"
     ]
    }
   ],
   "source": [
    "boys.forEach((item, index)=>{\n",
    "    console.log(index, item)\n",
    "});"
   ]
  },
  {
   "cell_type": "markdown",
   "id": "ccf31312",
   "metadata": {},
   "source": [
    "## Storing objects in Arrays"
   ]
  },
  {
   "cell_type": "markdown",
   "id": "f1cb546a",
   "metadata": {},
   "source": [
    "Initialization handler object "
   ]
  },
  {
   "cell_type": "code",
   "execution_count": 1,
   "id": "16fc400c",
   "metadata": {},
   "outputs": [],
   "source": [
    "var handlers = {};"
   ]
  },
  {
   "cell_type": "markdown",
   "id": "02a3dbec",
   "metadata": {},
   "source": [
    "Adding prototypes to handlers object for different greetings"
   ]
  },
  {
   "cell_type": "code",
   "execution_count": 2,
   "id": "5edd07bd",
   "metadata": {},
   "outputs": [
    {
     "data": {
      "text/plain": [
       "[Function (anonymous)]"
      ]
     },
     "execution_count": 2,
     "metadata": {},
     "output_type": "execute_result"
    }
   ],
   "source": [
    "handlers.hello = function(callback){\n",
    "    callback.greeting = \" Hello \" + callback.name;\n",
    "};\n",
    "\n",
    "handlers.hey = function(callback){\n",
    "    callback.greeting = \" Hey\" + callback.name;\n",
    "};"
   ]
  },
  {
   "cell_type": "markdown",
   "id": "265386ed",
   "metadata": {},
   "source": [
    "Objects different people "
   ]
  },
  {
   "cell_type": "code",
   "execution_count": 3,
   "id": "6e8c694b",
   "metadata": {},
   "outputs": [],
   "source": [
    "var callback_jim = {\n",
    "    'name':'Jimmy Smith',\n",
    "    'greeting':''\n",
    "};\n",
    "\n",
    "var callback_tom = {\n",
    "    'name':'Tom Johnson',\n",
    "    'greeting':''\n",
    "};"
   ]
  },
  {
   "cell_type": "markdown",
   "id": "1de94dd2",
   "metadata": {},
   "source": [
    "Say greeting in different ways"
   ]
  },
  {
   "cell_type": "code",
   "execution_count": 4,
   "id": "253c07db",
   "metadata": {},
   "outputs": [
    {
     "name": "stdout",
     "output_type": "stream",
     "text": [
      " Hello Jimmy Smith\n"
     ]
    }
   ],
   "source": [
    "handlers.hello(callback_jim);\n",
    "console.log( callback_jim.greeting  );"
   ]
  },
  {
   "cell_type": "markdown",
   "id": "3f82a5a0",
   "metadata": {},
   "source": [
    "Create callback List"
   ]
  },
  {
   "cell_type": "code",
   "execution_count": 5,
   "id": "1276716b",
   "metadata": {},
   "outputs": [],
   "source": [
    "var listCallback = {\n",
    "    'jim' : callback_jim,\n",
    "};"
   ]
  },
  {
   "cell_type": "markdown",
   "id": "655e4d91",
   "metadata": {},
   "source": [
    "Using callback list "
   ]
  },
  {
   "cell_type": "code",
   "execution_count": 6,
   "id": "414d68ed",
   "metadata": {},
   "outputs": [
    {
     "name": "stdout",
     "output_type": "stream",
     "text": [
      " Hello Jimmy Smith\n"
     ]
    }
   ],
   "source": [
    "handlers.hello( listCallback['jim'] ) ;\n",
    "\n",
    "console.log( listCallback['jim'].greeting );"
   ]
  },
  {
   "cell_type": "markdown",
   "id": "2434ddf4",
   "metadata": {},
   "source": [
    "<h1><span style=\"color:red\">Arrays Methods</span></h1>"
   ]
  },
  {
   "cell_type": "markdown",
   "id": "cae93e86",
   "metadata": {},
   "source": [
    "## concat()       \n",
    "Join several arrays into one"
   ]
  },
  {
   "cell_type": "code",
   "execution_count": 1,
   "id": "e0ae22e7",
   "metadata": {},
   "outputs": [
    {
     "name": "stdout",
     "output_type": "stream",
     "text": [
      "[ 'Cecilie', 'Lone', 'Emil', 'Tobias', 'Linus' ]\n"
     ]
    }
   ],
   "source": [
    "var hege = [\"Cecilie\", \"Lone\"];\n",
    "var stale = [\"Emil\", \"Tobias\", \"Linus\"];\n",
    "\n",
    "var children = hege.concat(stale); \n",
    "\n",
    "console.log( children );"
   ]
  },
  {
   "cell_type": "markdown",
   "id": "1dc20c47",
   "metadata": {},
   "source": [
    "## constructor"
   ]
  },
  {
   "cell_type": "markdown",
   "id": "19e89f11",
   "metadata": {},
   "source": [
    "The Array() constructor is used to create Array objects."
   ]
  },
  {
   "cell_type": "code",
   "execution_count": 2,
   "id": "180c0149",
   "metadata": {},
   "outputs": [
    {
     "name": "stdout",
     "output_type": "stream",
     "text": [
      "Type of: fruits = object\n",
      "Type of: fruits.constructor = function\n"
     ]
    }
   ],
   "source": [
    "var fruits = ['Apple', 'Banana'];\n",
    "\n",
    "console.log( \"Type of: fruits = \" + typeof fruits ); \n",
    "\n",
    "console.log( \"Type of: fruits.constructor = \" + typeof fruits.constructor ); "
   ]
  },
  {
   "cell_type": "markdown",
   "id": "8ed576b7",
   "metadata": {},
   "source": [
    "**Array literal notation**"
   ]
  },
  {
   "cell_type": "code",
   "execution_count": 3,
   "id": "41c91850",
   "metadata": {},
   "outputs": [
    {
     "name": "stdout",
     "output_type": "stream",
     "text": [
      "2\n",
      "Apple\n"
     ]
    }
   ],
   "source": [
    "var fruits = ['Apple', 'Banana'];\n",
    "\n",
    "console.log(fruits.length); // 2\n",
    "console.log(fruits[0]);     // \"Apple\""
   ]
  },
  {
   "cell_type": "markdown",
   "id": "be5ae81b",
   "metadata": {},
   "source": [
    "**Array constructor with a single parameter**"
   ]
  },
  {
   "cell_type": "code",
   "execution_count": 4,
   "id": "1b2084d1",
   "metadata": {},
   "outputs": [
    {
     "name": "stdout",
     "output_type": "stream",
     "text": [
      "2\n",
      "undefined\n"
     ]
    }
   ],
   "source": [
    "var fruits = new Array(2);\n",
    "\n",
    "console.log(fruits.length); // 2\n",
    "console.log(fruits[0]);     // undefined"
   ]
  },
  {
   "cell_type": "markdown",
   "id": "c64e588e",
   "metadata": {},
   "source": [
    "**Array constructor with multiple parameters**"
   ]
  },
  {
   "cell_type": "code",
   "execution_count": 5,
   "id": "922806a1",
   "metadata": {},
   "outputs": [
    {
     "name": "stdout",
     "output_type": "stream",
     "text": [
      "2\n",
      "Apple\n"
     ]
    }
   ],
   "source": [
    "var fruits = new Array('Apple', 'Banana');\n",
    "\n",
    "console.log(fruits.length); // 2\n",
    "console.log(fruits[0]);     // \"Apple\""
   ]
  },
  {
   "cell_type": "markdown",
   "id": "3545f062",
   "metadata": {},
   "source": [
    "## copyWithin()"
   ]
  },
  {
   "cell_type": "markdown",
   "id": "5205cb5c",
   "metadata": {},
   "source": [
    "Copies array elements to another position in an array, overwriting the existing values.    \n",
    "\n",
    "array.copyWithin(target, start, end)\n",
    "\n",
    "\n",
    "| Parameter     | Description |\n",
    "| ----------- | ----------- |\n",
    "|target    | Required. The index position to copy the elements to      |\n",
    "|start   | Optional. The index position to start copying elements from  (default is 0)  |\n",
    "|end\t  | Optional. The index position to stop copying elements from (default is array.length)  |"
   ]
  },
  {
   "cell_type": "code",
   "execution_count": 6,
   "id": "3b01a2fd",
   "metadata": {},
   "outputs": [
    {
     "name": "stdout",
     "output_type": "stream",
     "text": [
      "0 Banana\n",
      "1 Orange\n",
      "2 Banana\n",
      "3 Orange\n"
     ]
    }
   ],
   "source": [
    "var fruits = [\"Banana\", \"Orange\", \"Apple\", \"Mango\"];\n",
    "fruits.copyWithin(2);\n",
    "\n",
    "fruits.forEach((item, index)=>{\n",
    "    console.log(index, item)\n",
    "})"
   ]
  },
  {
   "cell_type": "code",
   "execution_count": 7,
   "id": "0ee3f65d",
   "metadata": {},
   "outputs": [
    {
     "name": "stdout",
     "output_type": "stream",
     "text": [
      "0 Banana\n",
      "1 Orange\n",
      "2 Melon\n",
      "3 Apple\n",
      "4 Orange\n",
      "5 Melon\n",
      "6 Watermelon\n"
     ]
    }
   ],
   "source": [
    "var fruits = [\"Banana\", \"Orange\",'Melon', \"Apple\", \"Mango\", \"Berries\", \"Watermelon\"];\n",
    "fruits.copyWithin(4, 1 , 3);\n",
    "\n",
    "fruits.forEach((item, index)=>{\n",
    "    console.log(index, item)\n",
    "})"
   ]
  },
  {
   "cell_type": "markdown",
   "id": "16d03f92",
   "metadata": {},
   "source": [
    "## entries()"
   ]
  },
  {
   "cell_type": "markdown",
   "id": "e4633b22",
   "metadata": {},
   "source": [
    "Array Iterator object that contains the key/value pairs for each index in the array."
   ]
  },
  {
   "cell_type": "code",
   "execution_count": 8,
   "id": "c4c5eea2",
   "metadata": {},
   "outputs": [
    {
     "name": "stdout",
     "output_type": "stream",
     "text": [
      "0 a\n",
      "1 b\n",
      "2 c\n"
     ]
    }
   ],
   "source": [
    "const a = ['a', 'b', 'c'];\n",
    "\n",
    "for (const [index, element] of a.entries()){\n",
    "    console.log(index, element);\n",
    "}"
   ]
  },
  {
   "cell_type": "code",
   "execution_count": 9,
   "id": "087c5229",
   "metadata": {},
   "outputs": [
    {
     "name": "stdout",
     "output_type": "stream",
     "text": [
      "[ 0, 'a' ]\n",
      "[ 1, 'b' ]\n"
     ]
    }
   ],
   "source": [
    "const array1 = ['a', 'b', 'c'];\n",
    "\n",
    "const iterator1 = array1.entries();\n",
    "\n",
    "console.log(iterator1.next().value);\n",
    "// expected output: Array [0, \"a\"]\n",
    "\n",
    "console.log(iterator1.next().value);\n",
    "// expected output: Array [1, \"b\"]"
   ]
  },
  {
   "cell_type": "markdown",
   "id": "057f0250",
   "metadata": {},
   "source": [
    "## every()"
   ]
  },
  {
   "cell_type": "markdown",
   "id": "5582faad",
   "metadata": {},
   "source": [
    "The every() method tests whether all elements in the array pass the test implemented by the provided function. \n",
    "It returns a Boolean value."
   ]
  },
  {
   "cell_type": "markdown",
   "id": "9d8f3f0c",
   "metadata": {},
   "source": [
    "Check if all the values in ages[] are 18 or over."
   ]
  },
  {
   "cell_type": "code",
   "execution_count": 11,
   "id": "c65fc814",
   "metadata": {},
   "outputs": [
    {
     "data": {
      "text/plain": [
       "false"
      ]
     },
     "execution_count": 11,
     "metadata": {},
     "output_type": "execute_result"
    }
   ],
   "source": [
    "var ages = [32, 33, 16, 40];\n",
    "\n",
    "function checkAge(age) {\n",
    "  return age > 18;\n",
    "};\n",
    "\n",
    "ages.every(checkAge)    // Returns false"
   ]
  },
  {
   "cell_type": "code",
   "execution_count": 12,
   "id": "48a0df06",
   "metadata": {},
   "outputs": [
    {
     "data": {
      "text/plain": [
       "true"
      ]
     },
     "execution_count": 12,
     "metadata": {},
     "output_type": "execute_result"
    }
   ],
   "source": [
    "var ages = [32, 33, 20, 40];\n",
    "\n",
    "function checkAge(age) {\n",
    "  return age > 18;\n",
    "};\n",
    "\n",
    "ages.every(checkAge);    // Returns false"
   ]
  },
  {
   "cell_type": "markdown",
   "id": "05418236",
   "metadata": {},
   "source": [
    "## fill()"
   ]
  },
  {
   "cell_type": "markdown",
   "id": "1f581fb6",
   "metadata": {},
   "source": [
    "Fill all the array elements with a static value."
   ]
  },
  {
   "cell_type": "code",
   "execution_count": 13,
   "id": "ec066b9f",
   "metadata": {},
   "outputs": [
    {
     "name": "stdout",
     "output_type": "stream",
     "text": [
      "[ 'Kiwi', 'Kiwi', 'Kiwi', 'Kiwi' ]\n"
     ]
    }
   ],
   "source": [
    "var fruits = [\"Banana\", \"Orange\", \"Apple\", \"Mango\"];\n",
    "fruits.fill(\"Kiwi\");\n",
    "\n",
    "console.log ( fruits );"
   ]
  },
  {
   "cell_type": "code",
   "execution_count": 14,
   "id": "4663ae5f",
   "metadata": {},
   "outputs": [
    {
     "name": "stdout",
     "output_type": "stream",
     "text": [
      "0 { accountNumber: Symbol(), type: 'CHECKING', amount: 50 }\n",
      "1 { accountNumber: Symbol(), type: 'CHECKING', amount: 50 }\n",
      "2 { accountNumber: Symbol(), type: 'CHECKING', amount: 50 }\n"
     ]
    }
   ],
   "source": [
    "var bank = new Array(3);\n",
    "\n",
    "var initialAccount = {\n",
    "    accountNumber: Symbol(),\n",
    "    type: \"CHECKING\",\n",
    "    amount: 50\n",
    "};\n",
    "\n",
    "bank.fill(initialAccount);\n",
    "\n",
    "for (const [index, element] of bank.entries()){\n",
    "    console.log(index, element);\n",
    "};"
   ]
  },
  {
   "cell_type": "markdown",
   "id": "86b936c6",
   "metadata": {},
   "source": [
    "## filter()"
   ]
  },
  {
   "cell_type": "markdown",
   "id": "82eef3fd",
   "metadata": {},
   "source": [
    "The filter() method creates a new array with all elements that pass the test implemented by the provided function."
   ]
  },
  {
   "cell_type": "markdown",
   "id": "b6b44414",
   "metadata": {},
   "source": [
    "Return an array of all the values in ages[] that are 18 or over:"
   ]
  },
  {
   "cell_type": "code",
   "execution_count": 15,
   "id": "25988f55",
   "metadata": {},
   "outputs": [
    {
     "data": {
      "text/plain": [
       "[ 32, 33, 40 ]"
      ]
     },
     "execution_count": 15,
     "metadata": {},
     "output_type": "execute_result"
    }
   ],
   "source": [
    "var ages = [32, 33, 16, 40];\n",
    "\n",
    "function checkAdult(age) {\n",
    "  return age >= 18;\n",
    "};\n",
    "\n",
    "ages.filter(checkAdult);    // Returns [32, 33, 40]"
   ]
  },
  {
   "cell_type": "markdown",
   "id": "5a30884c",
   "metadata": {},
   "source": [
    "## find()"
   ]
  },
  {
   "cell_type": "markdown",
   "id": "68002c48",
   "metadata": {},
   "source": [
    "Get the value of the first element in the array that has a value over 18:"
   ]
  },
  {
   "cell_type": "code",
   "execution_count": 16,
   "id": "b2ad610e",
   "metadata": {},
   "outputs": [
    {
     "data": {
      "text/plain": [
       "20"
      ]
     },
     "execution_count": 16,
     "metadata": {},
     "output_type": "execute_result"
    }
   ],
   "source": [
    "var ages = [3, 10, 18, 20];\n",
    "\n",
    "function checkAge(age) {\n",
    "  return age > 18;\n",
    "};\n",
    "\n",
    "ages.find(checkAge);"
   ]
  },
  {
   "cell_type": "markdown",
   "id": "b1af7583",
   "metadata": {},
   "source": [
    "## findIndex()"
   ]
  },
  {
   "cell_type": "markdown",
   "id": "20dd803b",
   "metadata": {},
   "source": [
    "Get the index of the first element in the array that has a value of 18 or more:"
   ]
  },
  {
   "cell_type": "code",
   "execution_count": 17,
   "id": "cd31c884",
   "metadata": {},
   "outputs": [
    {
     "data": {
      "text/plain": [
       "3"
      ]
     },
     "execution_count": 17,
     "metadata": {},
     "output_type": "execute_result"
    }
   ],
   "source": [
    "var ages = [3, 10, 18, 20];\n",
    "\n",
    "function checkAge(age) {\n",
    "  return age > 18;\n",
    "};\n",
    "\n",
    "ages.findIndex(checkAge)   // Returns 3"
   ]
  },
  {
   "cell_type": "markdown",
   "id": "f4733a5c",
   "metadata": {},
   "source": [
    "## forEach()"
   ]
  },
  {
   "cell_type": "markdown",
   "id": "90de0536",
   "metadata": {},
   "source": [
    "List each item in the array."
   ]
  },
  {
   "cell_type": "code",
   "execution_count": 4,
   "id": "faf00506",
   "metadata": {},
   "outputs": [
    {
     "name": "stdout",
     "output_type": "stream",
     "text": [
      "0 apple\n",
      "1 orange\n",
      "2 cherry\n"
     ]
    }
   ],
   "source": [
    "var fruits = [\"apple\", \"orange\", \"cherry\"];\n",
    "\n",
    "function myFunction(item, index) {\n",
    "  console.log( index + \" \" + item); \n",
    "};\n",
    "\n",
    "fruits.forEach(myFunction);"
   ]
  },
  {
   "cell_type": "markdown",
   "id": "6696478d",
   "metadata": {},
   "source": [
    "## from()"
   ]
  },
  {
   "cell_type": "markdown",
   "id": "8322a0a3",
   "metadata": {},
   "source": [
    "Create an Array from another array. Pass in fuction to change initial array. "
   ]
  },
  {
   "cell_type": "markdown",
   "id": "2cb72260",
   "metadata": {},
   "source": [
    "Array.from(object, mapFunction, thisValue)\n",
    "\n",
    "| Parameter     | Description                                   |\n",
    "| -----------   | --------------------------------------------- |\n",
    "| object        | Required. The object to convert to an array   |\n",
    "| mapFunction   | Optional. A map function to call on each item of the array |\n",
    "| thisValue     | Optional. A value to use as this when executing the mapFunction |  \n"
   ]
  },
  {
   "cell_type": "code",
   "execution_count": 19,
   "id": "ae20e89a",
   "metadata": {},
   "outputs": [
    {
     "name": "stdout",
     "output_type": "stream",
     "text": [
      "[ 5, 6, 7 ]\n",
      "[ 10, 12, 14 ]\n"
     ]
    }
   ],
   "source": [
    "var scores = [5, 6, 7];\n",
    "\n",
    "\n",
    "var mupliplier = {\n",
    "    do(x) {\n",
    "        return x * this.factor;\n",
    "    }\n",
    "};\n",
    "\n",
    "var newScores = Array.from(scores, mupliplier.do, {factor: 1} );\n",
    "console.log(newScores);\n",
    "\n",
    "var newScores = Array.from(scores, mupliplier.do, {factor: 2} );\n",
    "console.log(newScores);"
   ]
  },
  {
   "cell_type": "markdown",
   "id": "74b4bf50",
   "metadata": {},
   "source": [
    "## includes()"
   ]
  },
  {
   "cell_type": "markdown",
   "id": "1aeb1c14",
   "metadata": {},
   "source": [
    "Check if an array includes certain value. Return boolean."
   ]
  },
  {
   "cell_type": "code",
   "execution_count": 20,
   "id": "dffa1b3f",
   "metadata": {},
   "outputs": [
    {
     "data": {
      "text/plain": [
       "true"
      ]
     },
     "execution_count": 20,
     "metadata": {},
     "output_type": "execute_result"
    }
   ],
   "source": [
    "var fruits = [\"Banana\", \"Orange\", \"Apple\", \"Mango\"];\n",
    "fruits.includes(\"Mango\")   // Returns true"
   ]
  },
  {
   "cell_type": "markdown",
   "id": "661ece8e",
   "metadata": {},
   "source": [
    "## indexOf()"
   ]
  },
  {
   "cell_type": "markdown",
   "id": "485a26c4",
   "metadata": {},
   "source": [
    "Search an array for the item and return the index of that value. "
   ]
  },
  {
   "cell_type": "code",
   "execution_count": 21,
   "id": "643eb5d1",
   "metadata": {},
   "outputs": [
    {
     "data": {
      "text/plain": [
       "2"
      ]
     },
     "execution_count": 21,
     "metadata": {},
     "output_type": "execute_result"
    }
   ],
   "source": [
    "var fruits = [\"Banana\", \"Orange\", \"Apple\", \"Mango\"];\n",
    "fruits.indexOf(\"Apple\")   // Returns 2"
   ]
  },
  {
   "cell_type": "markdown",
   "id": "40c13880",
   "metadata": {},
   "source": [
    "## isArray()"
   ]
  },
  {
   "cell_type": "markdown",
   "id": "8e728ee3",
   "metadata": {},
   "source": [
    "Check whether an object is an array."
   ]
  },
  {
   "cell_type": "code",
   "execution_count": 22,
   "id": "21ce3f4c",
   "metadata": {},
   "outputs": [
    {
     "data": {
      "text/plain": [
       "true"
      ]
     },
     "execution_count": 22,
     "metadata": {},
     "output_type": "execute_result"
    }
   ],
   "source": [
    "var fruits = [\"Banana\", \"Orange\", \"Apple\", \"Mango\"];\n",
    "Array.isArray(fruits)   // Returns true"
   ]
  },
  {
   "cell_type": "markdown",
   "id": "1f3b60d1",
   "metadata": {},
   "source": [
    "## join()"
   ]
  },
  {
   "cell_type": "markdown",
   "id": "331d0e6a",
   "metadata": {},
   "source": [
    "Convert the elements of an array into a string."
   ]
  },
  {
   "cell_type": "code",
   "execution_count": 23,
   "id": "49b8923d",
   "metadata": {},
   "outputs": [
    {
     "data": {
      "text/plain": [
       "'Banana,Orange,Apple,Mango'"
      ]
     },
     "execution_count": 23,
     "metadata": {},
     "output_type": "execute_result"
    }
   ],
   "source": [
    "var fruits = [\"Banana\", \"Orange\", \"Apple\", \"Mango\"];\n",
    "fruits.join()   // Returns \"Banana,Orange,Apple,Mango\""
   ]
  },
  {
   "cell_type": "markdown",
   "id": "93e963f1",
   "metadata": {},
   "source": [
    "## keys()"
   ]
  },
  {
   "cell_type": "markdown",
   "id": "3175643c",
   "metadata": {},
   "source": [
    "Create an Array Iterator object, containing the keys of the array."
   ]
  },
  {
   "cell_type": "code",
   "execution_count": 24,
   "id": "055daaeb",
   "metadata": {},
   "outputs": [
    {
     "name": "stdout",
     "output_type": "stream",
     "text": [
      "0\n",
      "1\n",
      "2\n",
      "3\n"
     ]
    }
   ],
   "source": [
    "var fruits = [\"Banana\", \"Orange\", \"Apple\", \"Mango\"];\n",
    "\n",
    "for (let x of fruits.keys()) {\n",
    "  console.log( x );\n",
    "}"
   ]
  },
  {
   "cell_type": "markdown",
   "id": "7f8e6a90",
   "metadata": {},
   "source": [
    "## length"
   ]
  },
  {
   "cell_type": "markdown",
   "id": "8eb2d57b",
   "metadata": {},
   "source": [
    "Return the length of an array."
   ]
  },
  {
   "cell_type": "code",
   "execution_count": 25,
   "id": "d6fdae7c",
   "metadata": {},
   "outputs": [
    {
     "name": "stdout",
     "output_type": "stream",
     "text": [
      "4\n"
     ]
    }
   ],
   "source": [
    "var fruits = [\"Banana\", \"Orange\", \"Apple\", \"Mango\"];\n",
    "console.log( fruits.length );   // Returns 4"
   ]
  },
  {
   "cell_type": "markdown",
   "id": "9668e8a2",
   "metadata": {},
   "source": [
    "## lastIndexOf()"
   ]
  },
  {
   "cell_type": "markdown",
   "id": "9dfec84d",
   "metadata": {},
   "source": [
    "Search an array for the item. If there are many times certain item is in the array will return last index. "
   ]
  },
  {
   "cell_type": "code",
   "execution_count": 26,
   "id": "098bb64e",
   "metadata": {},
   "outputs": [
    {
     "name": "stdout",
     "output_type": "stream",
     "text": [
      "2\n"
     ]
    }
   ],
   "source": [
    "var fruits = [\"Apple\", \"Orange\", \"Apple\", \"Mango\"];\n",
    "console.log( fruits.lastIndexOf(\"Apple\") );  // Returns 2"
   ]
  },
  {
   "cell_type": "markdown",
   "id": "b6e90dd8",
   "metadata": {},
   "source": [
    "## map()"
   ]
  },
  {
   "cell_type": "markdown",
   "id": "b2ef2cfd",
   "metadata": {},
   "source": [
    "array.map(function(currentValue, index, arr), thisValue)"
   ]
  },
  {
   "cell_type": "markdown",
   "id": "b582265e",
   "metadata": {},
   "source": [
    "| Parameter                         | Description                                                      |\n",
    "| :--------------------------------- |:----------------------------------------------------------------- |\n",
    "|function(currentValue, index, arr) |   Required. A function to be run for each element in the array.  |\n",
    "| thisValue                         |  Optional. A value to be passed to the function to be used       |\n",
    "|                                   |   as its \"this\" value.                                           |\n",
    "|                                   |  If this parameter is empty, the value \"undefined\" will be       |   \n",
    "|                                   |  passed as its \"this\" value                                      |\n",
    "\n"
   ]
  },
  {
   "cell_type": "markdown",
   "id": "d672c20d",
   "metadata": {},
   "source": [
    "Function arguments:"
   ]
  },
  {
   "cell_type": "markdown",
   "id": "0f8b03de",
   "metadata": {},
   "source": [
    "| Argument      | Description   |\n",
    "| :------------- | :------------- |\n",
    "| currentValue  | Required. The value of the current element  |\n",
    "| index  | Optional. The array index of the current element  |\n",
    "| arr  | Optional. The array object the current element belongs to  |"
   ]
  },
  {
   "cell_type": "code",
   "execution_count": 27,
   "id": "f7518df3",
   "metadata": {},
   "outputs": [
    {
     "name": "stdout",
     "output_type": "stream",
     "text": [
      "Apple 0 [ 'Apple', 'Orange', 'Apple', 'Mango' ]\n",
      "Orange 1 [ 'Apple', 'Orange', 'Apple', 'Mango' ]\n",
      "Apple 2 [ 'Apple', 'Orange', 'Apple', 'Mango' ]\n",
      "Mango 3 [ 'Apple', 'Orange', 'Apple', 'Mango' ]\n"
     ]
    },
    {
     "data": {
      "text/plain": [
       "[ 0, 2, 4, 6 ]"
      ]
     },
     "execution_count": 27,
     "metadata": {},
     "output_type": "execute_result"
    }
   ],
   "source": [
    "var fruits = [\"Apple\", \"Orange\", \"Apple\", \"Mango\"];\n",
    "\n",
    "function myFunction (currentValue, index, arr){\n",
    "    console.log(currentValue, index, arr);\n",
    "    \n",
    "    return index * this.factor;\n",
    "    \n",
    "};\n",
    "\n",
    "fruits.map(myFunction, {factor: 2});\n"
   ]
  },
  {
   "cell_type": "markdown",
   "id": "d2d80d18",
   "metadata": {},
   "source": [
    "## pop() "
   ]
  },
  {
   "cell_type": "markdown",
   "id": "7e302bdf",
   "metadata": {},
   "source": [
    "Remove the last element of an array."
   ]
  },
  {
   "cell_type": "code",
   "execution_count": 28,
   "id": "e20f119a",
   "metadata": {},
   "outputs": [
    {
     "name": "stdout",
     "output_type": "stream",
     "text": [
      "Mango\n"
     ]
    }
   ],
   "source": [
    "var fruits = [\"Banana\", \"Orange\", \"Apple\", \"Mango\"];\n",
    "console.log( fruits.pop() );   // Removes \"Mango\""
   ]
  },
  {
   "cell_type": "markdown",
   "id": "b2bfa8d3",
   "metadata": {},
   "source": [
    "## prototype "
   ]
  },
  {
   "cell_type": "markdown",
   "id": "9cf5c440",
   "metadata": {},
   "source": [
    "Create a method on the array."
   ]
  },
  {
   "cell_type": "markdown",
   "id": "a0a00232",
   "metadata": {},
   "source": [
    "Create a method that transforms array values into upper case:"
   ]
  },
  {
   "cell_type": "code",
   "execution_count": 30,
   "id": "0cee0586",
   "metadata": {},
   "outputs": [
    {
     "data": {
      "text/plain": [
       "[Function (anonymous)]"
      ]
     },
     "execution_count": 30,
     "metadata": {},
     "output_type": "execute_result"
    }
   ],
   "source": [
    "Array.prototype.myUcase = function() {\n",
    "  for (let i = 0; i < this.length; i++) {\n",
    "    this[i] = this[i].toUpperCase();\n",
    "  }\n",
    "};"
   ]
  },
  {
   "cell_type": "markdown",
   "id": "e9dce8ea",
   "metadata": {},
   "source": [
    "Use the method on any array."
   ]
  },
  {
   "cell_type": "code",
   "execution_count": 31,
   "id": "52f7494d",
   "metadata": {},
   "outputs": [
    {
     "name": "stdout",
     "output_type": "stream",
     "text": [
      "[ 'BANANA', 'ORANGE', 'APPLE', 'MANGO' ]\n"
     ]
    }
   ],
   "source": [
    "var fruits = [\"Banana\", \"Orange\", \"Apple\", \"Mango\"];\n",
    "fruits.myUcase();\n",
    "\n",
    "console.log( fruits );"
   ]
  },
  {
   "cell_type": "markdown",
   "id": "b5d388da",
   "metadata": {},
   "source": [
    "## push()"
   ]
  },
  {
   "cell_type": "markdown",
   "id": "0ad92746",
   "metadata": {},
   "source": [
    "Add a new item to an array. "
   ]
  },
  {
   "cell_type": "code",
   "execution_count": 32,
   "id": "1a03b579",
   "metadata": {},
   "outputs": [
    {
     "name": "stdout",
     "output_type": "stream",
     "text": [
      "[ 'Banana', 'Orange', 'Apple', 'Mango', 'Kiwi' ]\n"
     ]
    }
   ],
   "source": [
    "var fruits = [\"Banana\", \"Orange\", \"Apple\", \"Mango\"];\n",
    "fruits.push(\"Kiwi\");   // Adds \"Kiwi\"\n",
    "\n",
    "console.log( fruits );"
   ]
  },
  {
   "cell_type": "markdown",
   "id": "e0069495",
   "metadata": {},
   "source": [
    "## reduce()"
   ]
  },
  {
   "cell_type": "markdown",
   "id": "d1e1b360",
   "metadata": {},
   "source": [
    "The reduce() method executes a user-supplied “reducer” callback function on each element of the array, passing in    \n",
    "the return value from the calculation on the preceding element. The final result of running the reducer across all    \n",
    "elements of the array is a single value.   "
   ]
  },
  {
   "cell_type": "markdown",
   "id": "75c5e933",
   "metadata": {},
   "source": [
    "array.reduce(function(total, currentValue, currentIndex, arr), initialValue)"
   ]
  },
  {
   "cell_type": "markdown",
   "id": "b81f8a4a",
   "metadata": {},
   "source": [
    "| Parameter                         | Description                                                      |\n",
    "| :--------------------------------- |:----------------------------------------------------------------- |\n",
    "|function(total,currentValue, index,arr) |   Required. A function to be run for each element in the array. |\n",
    "| initialValue                        |  Optional. A value to be passed to the function as the initial value      |\n",
    "\n"
   ]
  },
  {
   "cell_type": "markdown",
   "id": "d7b6d727",
   "metadata": {},
   "source": [
    "Function arguments:"
   ]
  },
  {
   "cell_type": "markdown",
   "id": "7df096ca",
   "metadata": {},
   "source": [
    "| Argument      | Description   |\n",
    "| :------------- | :------------- |\n",
    "| total | Required. The initialValue, or the previously returned value of the function  |\n",
    "| currentValue  | Required. The value of the current element  |\n",
    "| currentIndex  | \tOptional. The array index of the current element  |\n",
    "| arr  | Optional. The array object the current element belongs to  |"
   ]
  },
  {
   "cell_type": "code",
   "execution_count": 13,
   "id": "13e494be",
   "metadata": {},
   "outputs": [],
   "source": [
    "var numbers = [ 1,2,3,4];\n",
    "\n",
    "function myFunction (total,currentValue, index,arr){\n",
    "    console.log(total,currentValue, index,arr);\n",
    "    \n",
    "    return total + currentValue;\n",
    "};"
   ]
  },
  {
   "cell_type": "code",
   "execution_count": 12,
   "id": "fc895fc8",
   "metadata": {},
   "outputs": [
    {
     "name": "stdout",
     "output_type": "stream",
     "text": [
      "0 1 0 [ 1, 2, 3, 4 ]\n",
      "3 2 1 [ 1, 2, 3, 4 ]\n",
      "7 3 2 [ 1, 2, 3, 4 ]\n",
      "12 4 3 [ 1, 2, 3, 4 ]\n"
     ]
    },
    {
     "data": {
      "text/plain": [
       "18"
      ]
     },
     "execution_count": 12,
     "metadata": {},
     "output_type": "execute_result"
    }
   ],
   "source": [
    "numbers.reduce(myFunction, 0);"
   ]
  },
  {
   "cell_type": "markdown",
   "id": "07326113",
   "metadata": {},
   "source": [
    "## reduceRight()"
   ]
  },
  {
   "cell_type": "markdown",
   "id": "09c38890",
   "metadata": {},
   "source": [
    "The reduceRight() method applies a function against an accumulator and each value of the array (from right-to-left) to reduce it to a single \n",
    "value.   "
   ]
  },
  {
   "cell_type": "markdown",
   "id": "92f3d8c5",
   "metadata": {},
   "source": [
    "array.reduceRight(function(total, currentValue, currentIndex, arr), initialValue)"
   ]
  },
  {
   "cell_type": "markdown",
   "id": "2a649433",
   "metadata": {},
   "source": [
    "| Parameter                         | Description                                                      |\n",
    "| :--------------------------------- |:----------------------------------------------------------------- |\n",
    "|function(total,currentValue, index,arr) |   Required. A function to be run for each element in the array. |\n",
    "| initialValue                        |  Optional. A value to be passed to the function as the initial value      |"
   ]
  },
  {
   "cell_type": "markdown",
   "id": "4f40e574",
   "metadata": {},
   "source": [
    "Function arguments:"
   ]
  },
  {
   "cell_type": "markdown",
   "id": "0605f265",
   "metadata": {},
   "source": [
    "| Argument      | Description   |\n",
    "| :------------- | :------------- |\n",
    "| total | Required. The initialValue, or the previously returned value of the function  |\n",
    "| currentValue  | Required. The value of the current element  |\n",
    "| currentIndex  | Optional. The array index of the current element  |\n",
    "| arr  | Optional. The array object the current element belongs to  |"
   ]
  },
  {
   "cell_type": "code",
   "execution_count": 14,
   "id": "291a2ec5",
   "metadata": {},
   "outputs": [],
   "source": [
    "var numbers = [ 1,2,3,4];\n",
    "\n",
    "function myFunction (total,currentValue, index,arr){\n",
    "    console.log(total,currentValue, index,arr);\n",
    "    \n",
    "    return total + currentValue;\n",
    "    \n",
    "};"
   ]
  },
  {
   "cell_type": "code",
   "execution_count": 15,
   "id": "3d89d65b",
   "metadata": {},
   "outputs": [
    {
     "name": "stdout",
     "output_type": "stream",
     "text": [
      "0 4 3 [ 1, 2, 3, 4 ]\n",
      "4 3 2 [ 1, 2, 3, 4 ]\n",
      "7 2 1 [ 1, 2, 3, 4 ]\n",
      "9 1 0 [ 1, 2, 3, 4 ]\n"
     ]
    },
    {
     "data": {
      "text/plain": [
       "10"
      ]
     },
     "execution_count": 15,
     "metadata": {},
     "output_type": "execute_result"
    }
   ],
   "source": [
    "numbers.reduceRight(myFunction, 0);"
   ]
  },
  {
   "cell_type": "markdown",
   "id": "42fcff6c",
   "metadata": {},
   "source": [
    "## reverse()"
   ]
  },
  {
   "cell_type": "markdown",
   "id": "25332a7e",
   "metadata": {},
   "source": [
    "Reverse the order of the elements in an array."
   ]
  },
  {
   "cell_type": "code",
   "execution_count": 37,
   "id": "1ba5eec8",
   "metadata": {},
   "outputs": [
    {
     "name": "stdout",
     "output_type": "stream",
     "text": [
      "[ 'Mango', 'Apple', 'Orange', 'Banana' ]\n"
     ]
    }
   ],
   "source": [
    "var fruits = [\"Banana\", \"Orange\", \"Apple\", \"Mango\"];\n",
    "console.log( fruits.reverse() );"
   ]
  },
  {
   "cell_type": "markdown",
   "id": "25aab672",
   "metadata": {},
   "source": [
    "## shift()"
   ]
  },
  {
   "cell_type": "markdown",
   "id": "82218df9",
   "metadata": {},
   "source": [
    "Remove the first item of an array."
   ]
  },
  {
   "cell_type": "code",
   "execution_count": 38,
   "id": "57d3379e",
   "metadata": {},
   "outputs": [
    {
     "name": "stdout",
     "output_type": "stream",
     "text": [
      "Banana\n"
     ]
    }
   ],
   "source": [
    "var fruits = [\"Banana\", \"Orange\", \"Apple\", \"Mango\"];\n",
    "console.log( fruits.shift() );"
   ]
  },
  {
   "cell_type": "markdown",
   "id": "4a597136",
   "metadata": {},
   "source": [
    "## slice()"
   ]
  },
  {
   "cell_type": "markdown",
   "id": "146cf491",
   "metadata": {},
   "source": [
    "array.slice(startIndex, endIndex)"
   ]
  },
  {
   "cell_type": "markdown",
   "id": "ca48620c",
   "metadata": {},
   "source": [
    "| Parameter                         | Description                                                      |\n",
    "| :--------------------------------- |:----------------------------------------------------------------- |\n",
    "| startIndex | Starting index where the slice starts in the array   |\n",
    "| endIndex |  Ending index where the slice ends in the array   |\n"
   ]
  },
  {
   "cell_type": "markdown",
   "id": "d259cf83",
   "metadata": {},
   "source": [
    "The slice() method returns a shallow copy of a portion of an array into a new array object selected from start to end (end not included) where start and end represent the index of items in that array. The original array will not be modified."
   ]
  },
  {
   "cell_type": "code",
   "execution_count": 39,
   "id": "4f17a23c",
   "metadata": {},
   "outputs": [
    {
     "name": "stdout",
     "output_type": "stream",
     "text": [
      "[ 'Orange', 'Lemon' ]\n"
     ]
    }
   ],
   "source": [
    "var fruits = [\"Banana\", \"Orange\", \"Lemon\", \"Apple\", \"Mango\"];\n",
    "console.log( fruits.slice(1, 3) ) ;"
   ]
  },
  {
   "cell_type": "markdown",
   "id": "81946c06",
   "metadata": {},
   "source": [
    "## some()"
   ]
  },
  {
   "cell_type": "markdown",
   "id": "2f67e2f8",
   "metadata": {},
   "source": [
    "The some() method tests whether at least one element in the array passes the test implemented by the provided \n",
    "function. It returns true if, in the array, it finds an element for which the provided function returns true; \n",
    "otherwise it returns false. It doesn't modify the array."
   ]
  },
  {
   "cell_type": "markdown",
   "id": "4aab940d",
   "metadata": {},
   "source": [
    "Check if any values in the ages array are 18 or over:"
   ]
  },
  {
   "cell_type": "code",
   "execution_count": 40,
   "id": "1dd7ef27",
   "metadata": {},
   "outputs": [
    {
     "name": "stdout",
     "output_type": "stream",
     "text": [
      "true\n"
     ]
    }
   ],
   "source": [
    "var ages = [3, 10, 18, 20];\n",
    "\n",
    "function checkAdult(age) {\n",
    "  return age >= 18;\n",
    "};\n",
    "\n",
    "console.log ( ages.some(checkAdult) );   // Returns true"
   ]
  },
  {
   "cell_type": "markdown",
   "id": "d4137618",
   "metadata": {},
   "source": [
    "## sort()"
   ]
  },
  {
   "cell_type": "markdown",
   "id": "117171d7",
   "metadata": {},
   "source": [
    "The sort() method sorts the elements of an array."
   ]
  },
  {
   "cell_type": "markdown",
   "id": "93a43de5",
   "metadata": {},
   "source": [
    "array.sort(compareFunction)   \n",
    "\n",
    "compareFunction\tOptional. A function that defines an alternative sort order. The function should return a \n",
    "negative, zero, or positive value, depending on the arguments, like:\n",
    "\n",
    "function(a, b){return a-b}\n",
    "\n",
    "When the sort() method compares two values, it sends the values to the compare function, and sorts the values \n",
    "according to the returned (negative, zero, positive) value.\n",
    "\n",
    "Example:\n",
    "\n",
    "When comparing 40 and 100, the sort() method calls the compare function(40,100).\n",
    "\n",
    "The function calculates 40-100, and returns -60 (a negative value).\n",
    "\n",
    "The sort function will sort 40 as a value lower than 100.\n"
   ]
  },
  {
   "cell_type": "markdown",
   "id": "f28c22db",
   "metadata": {},
   "source": [
    "**EXAMPLE**       \n",
    "Sort numbers in an array in ascending order:"
   ]
  },
  {
   "cell_type": "code",
   "execution_count": 41,
   "id": "986aac80",
   "metadata": {},
   "outputs": [
    {
     "name": "stdout",
     "output_type": "stream",
     "text": [
      "[ 1, 5, 10, 25, 40, 100 ]\n"
     ]
    }
   ],
   "source": [
    "var points = [40, 100, 1, 5, 25, 10];\n",
    "console.log( points.sort(function(a, b){return a-b}) );"
   ]
  },
  {
   "cell_type": "markdown",
   "id": "d2f1f499",
   "metadata": {},
   "source": [
    "## splice() "
   ]
  },
  {
   "cell_type": "markdown",
   "id": "7cd3eb68",
   "metadata": {},
   "source": [
    "The splice() method changes the contents of an array by removing or replacing existing elements and/or adding new elements"
   ]
  },
  {
   "cell_type": "markdown",
   "id": "24326933",
   "metadata": {},
   "source": [
    "array.splice(index, howmany, item1, ....., itemX)"
   ]
  },
  {
   "cell_type": "markdown",
   "id": "50e295ad",
   "metadata": {},
   "source": [
    "| Parameter          | Description                                                       |\n",
    "| :----------------- |:----------------------------------------------------------------- |\n",
    "| index              |  Required.  The position to add/remove items. Negative values a   |\n",
    "|                    |  the position from the end of the array.                          |\n",
    "| howmany            |  Optional. Number of items to be removed.                         |\n",
    "| item1, ..., itemX  |  Optional. New elements(s) to be added                            |"
   ]
  },
  {
   "cell_type": "markdown",
   "id": "9f28d96b",
   "metadata": {},
   "source": [
    "Add elements to an array:"
   ]
  },
  {
   "cell_type": "code",
   "execution_count": 42,
   "id": "1ff623a7",
   "metadata": {},
   "outputs": [
    {
     "name": "stdout",
     "output_type": "stream",
     "text": [
      "[ 'Banana', 'Orange', 'Lemon', 'Kiwi', 'Apple', 'Mango' ]\n"
     ]
    }
   ],
   "source": [
    "var fruits = [\"Banana\", \"Orange\", \"Apple\", \"Mango\"];\n",
    "\n",
    "// At position 2, add 2 elements:\n",
    "fruits.splice(2, 0, \"Lemon\", \"Kiwi\");\n",
    "\n",
    "console.log( fruits );"
   ]
  },
  {
   "cell_type": "code",
   "execution_count": 43,
   "id": "7976742e",
   "metadata": {},
   "outputs": [
    {
     "name": "stdout",
     "output_type": "stream",
     "text": [
      "[ 'Banana', 'Orange', 'Lemon', 'Kiwi', 'Mango' ]\n"
     ]
    }
   ],
   "source": [
    "var fruits = [\"Banana\", \"Orange\", \"Apple\", \"Mango\"];\n",
    "\n",
    "// At position 2, add 2 elements, remove 1 element:\n",
    "fruits.splice(2, 1, \"Lemon\", \"Kiwi\");\n",
    "\n",
    "console.log( fruits );"
   ]
  },
  {
   "cell_type": "markdown",
   "id": "0ecd5a9d",
   "metadata": {},
   "source": [
    "## toString() "
   ]
  },
  {
   "cell_type": "markdown",
   "id": "58f82e94",
   "metadata": {},
   "source": [
    "Convert an array to a string."
   ]
  },
  {
   "cell_type": "code",
   "execution_count": 44,
   "id": "486666fe",
   "metadata": {},
   "outputs": [
    {
     "name": "stdout",
     "output_type": "stream",
     "text": [
      "Banana,Orange,Apple,Mango\n"
     ]
    }
   ],
   "source": [
    "var fruits = [\"Banana\", \"Orange\", \"Apple\", \"Mango\"];\n",
    "console.log( fruits.toString() );"
   ]
  },
  {
   "cell_type": "markdown",
   "id": "4136c337",
   "metadata": {},
   "source": [
    "## unshift() "
   ]
  },
  {
   "cell_type": "markdown",
   "id": "58fa1913",
   "metadata": {},
   "source": [
    "The unshift() method adds one or more elements to the beginning of an array and returns the new length of the array."
   ]
  },
  {
   "cell_type": "markdown",
   "id": "0e906d7f",
   "metadata": {},
   "source": [
    "Add new items to the beginning of an array:"
   ]
  },
  {
   "cell_type": "code",
   "execution_count": 45,
   "id": "f6a85477",
   "metadata": {},
   "outputs": [
    {
     "name": "stdout",
     "output_type": "stream",
     "text": [
      "[ 'Lemon', 'Pineapple', 'Banana', 'Orange', 'Apple', 'Mango' ]\n"
     ]
    }
   ],
   "source": [
    "var fruits = [\"Banana\", \"Orange\", \"Apple\", \"Mango\"];\n",
    "fruits.unshift(\"Lemon\",\"Pineapple\");\n",
    "console.log( fruits );"
   ]
  },
  {
   "cell_type": "code",
   "execution_count": 17,
   "id": "3754aec4",
   "metadata": {},
   "outputs": [
    {
     "name": "stdout",
     "output_type": "stream",
     "text": [
      "[\n",
      "  'Lemon',\n",
      "  'Pineapple',\n",
      "  'Watermelon',\n",
      "  'Banana',\n",
      "  'Orange',\n",
      "  'Apple',\n",
      "  'Mango'\n",
      "]\n"
     ]
    }
   ],
   "source": [
    "var fruits = [\"Banana\", \"Orange\", \"Apple\", \"Mango\"];\n",
    "fruits.unshift(\"Lemon\",\"Pineapple\", \"Watermelon\");\n",
    "console.log( fruits );"
   ]
  },
  {
   "cell_type": "markdown",
   "id": "cd4b0528",
   "metadata": {},
   "source": [
    "## valueOf()"
   ]
  },
  {
   "cell_type": "markdown",
   "id": "82f9f269",
   "metadata": {},
   "source": [
    "The valueOf() method returns the primitive value of the specified object."
   ]
  },
  {
   "cell_type": "markdown",
   "id": "a05ea4be",
   "metadata": {},
   "source": [
    "fruits.valueOf() returns the same as fruits"
   ]
  },
  {
   "cell_type": "code",
   "execution_count": 22,
   "id": "d5450d44",
   "metadata": {},
   "outputs": [
    {
     "name": "stdout",
     "output_type": "stream",
     "text": [
      "object\n",
      "[ 'Banana', 'Orange', 'Apple', 'Mango' ]\n",
      "object\n"
     ]
    }
   ],
   "source": [
    "var fruits = new Array(\"Banana\", \"Orange\", \"Apple\", \"Mango\");\n",
    "\n",
    "\n",
    "console.log( fruits.valueOf() ) ;   // Returns fruits\n",
    "\n",
    "console.log( typeof fruits.valueOf() )"
   ]
  },
  {
   "cell_type": "code",
   "execution_count": null,
   "id": "50f3ad72",
   "metadata": {},
   "outputs": [],
   "source": []
  }
 ],
 "metadata": {
  "kernelspec": {
   "display_name": "Javascript (Node.js)",
   "language": "javascript",
   "name": "javascript"
  },
  "language_info": {
   "file_extension": ".js",
   "mimetype": "application/javascript",
   "name": "javascript",
   "version": "14.18.0"
  }
 },
 "nbformat": 4,
 "nbformat_minor": 5
}
