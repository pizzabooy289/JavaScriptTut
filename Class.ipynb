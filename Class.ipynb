{
 "cells": [
  {
   "cell_type": "markdown",
   "metadata": {},
   "source": [
    "# Class"
   ]
  },
  {
   "cell_type": "markdown",
   "metadata": {},
   "source": [
    "## Prior to ES6, JavaScript had no concepts of classes."
   ]
  },
  {
   "cell_type": "code",
   "execution_count": 6,
   "metadata": {},
   "outputs": [],
   "source": [
    "function Person(name) {\n",
    "    this.name = name;\n",
    "}"
   ]
  },
  {
   "cell_type": "code",
   "execution_count": 7,
   "metadata": {},
   "outputs": [
    {
     "data": {
      "text/plain": [
       "[Function (anonymous)]"
      ]
     },
     "execution_count": 7,
     "metadata": {},
     "output_type": "execute_result"
    }
   ],
   "source": [
    "Person.prototype.getName = function () {\n",
    "    return this.name;\n",
    "};"
   ]
  },
  {
   "cell_type": "code",
   "execution_count": 8,
   "metadata": {},
   "outputs": [
    {
     "name": "stdout",
     "output_type": "stream",
     "text": [
      "John Doe\n"
     ]
    }
   ],
   "source": [
    "var john = new Person(\"John Doe\");\n",
    "console.log(john.getName());"
   ]
  },
  {
   "cell_type": "markdown",
   "metadata": {},
   "source": [
    "## ES6 class declaration"
   ]
  },
  {
   "cell_type": "markdown",
   "metadata": {},
   "source": [
    "I had to instal Babel to make this to work in Jupyter Notebook from the command line as administrator\n",
    "\n",
    "```shell\n",
    "npm install --save-dev @babel/core @babel/node\n",
    "```"
   ]
  },
  {
   "cell_type": "code",
   "execution_count": 1,
   "metadata": {},
   "outputs": [],
   "source": [
    "class Car {\n",
    "    constructor(type, year) {\n",
    "        this.type = type;\n",
    "        this.year = year;\n",
    "    }\n",
    "    getType() {\n",
    "        return this.type;\n",
    "    }\n",
    "    getYear(){\n",
    "        return this.year;\n",
    "    }\n",
    "    \n",
    "    toString(){\n",
    "        return \"The \" + this.type + \" was build in \"+ this.year;\n",
    "    }\n",
    "}"
   ]
  },
  {
   "cell_type": "code",
   "execution_count": 2,
   "metadata": {},
   "outputs": [],
   "source": [
    "var greenCar = new Car(\"Ford\", 1950);"
   ]
  },
  {
   "cell_type": "code",
   "execution_count": 3,
   "metadata": {},
   "outputs": [
    {
     "name": "stdout",
     "output_type": "stream",
     "text": [
      "Type: Ford\n"
     ]
    }
   ],
   "source": [
    "console.log(\"Type: \" + greenCar.getType() )"
   ]
  },
  {
   "cell_type": "code",
   "execution_count": 4,
   "metadata": {},
   "outputs": [
    {
     "name": "stdout",
     "output_type": "stream",
     "text": [
      "Year: 1950\n"
     ]
    }
   ],
   "source": [
    "console.log(\"Year: \" + greenCar.getYear() )"
   ]
  },
  {
   "cell_type": "code",
   "execution_count": 5,
   "metadata": {},
   "outputs": [
    {
     "name": "stdout",
     "output_type": "stream",
     "text": [
      "The Ford was build in 1950\n"
     ]
    }
   ],
   "source": [
    "console.log(greenCar.toString() )"
   ]
  }
 ],
 "metadata": {
  "kernelspec": {
   "display_name": "JavaScript (Node.js)",
   "language": "javascript",
   "name": "javascript"
  },
  "language_info": {
   "file_extension": ".js",
   "mimetype": "application/javascript",
   "name": "javascript",
   "version": "14.18.0"
  }
 },
 "nbformat": 4,
 "nbformat_minor": 4
}
