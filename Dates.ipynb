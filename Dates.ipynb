{
 "cells": [
  {
   "cell_type": "markdown",
   "id": "06a8d3d3",
   "metadata": {},
   "source": [
    "# Date"
   ]
  },
  {
   "cell_type": "markdown",
   "id": "73a2eb68",
   "metadata": {},
   "source": [
    "There are four ways of instantiating a date:"
   ]
  },
  {
   "cell_type": "markdown",
   "id": "07d23e52",
   "metadata": {},
   "source": [
    "var d = new Date();      \n",
    "var d = new Date(milliseconds);     \n",
    "var d = new Date(dateString);     \n",
    "var d = new Date(year, month, day, hours, minutes, seconds, milliseconds);  "
   ]
  },
  {
   "cell_type": "markdown",
   "id": "2959db4f",
   "metadata": {},
   "source": [
    "# Current Date"
   ]
  },
  {
   "cell_type": "code",
   "execution_count": 1,
   "id": "be8390cd",
   "metadata": {},
   "outputs": [
    {
     "name": "stdout",
     "output_type": "stream",
     "text": [
      "Wed Jul 27 2022 11:43:47 GMT-0400 (Eastern Daylight Time)\n"
     ]
    }
   ],
   "source": [
    "var today = new Date()\n",
    "\n",
    "console.log( today.toString() );"
   ]
  },
  {
   "cell_type": "markdown",
   "id": "c4347579",
   "metadata": {},
   "source": [
    "# Birtday "
   ]
  },
  {
   "cell_type": "code",
   "execution_count": 5,
   "id": "9bc3ed27",
   "metadata": {},
   "outputs": [],
   "source": [
    "var year = 1967;\n",
    "var month = 08;\n",
    "var day = 14;\n",
    "var hours = 14;\n",
    "var minutes = 48;\n",
    "var seconds = 12;\n",
    "var milliseconds = 0; "
   ]
  },
  {
   "cell_type": "code",
   "execution_count": 6,
   "id": "4476031e",
   "metadata": {},
   "outputs": [],
   "source": [
    "var birthday = new Date(year, month, day, hours, minutes, seconds, milliseconds);"
   ]
  },
  {
   "cell_type": "markdown",
   "id": "3098486a",
   "metadata": {},
   "source": [
    "### Get Year"
   ]
  },
  {
   "cell_type": "code",
   "execution_count": 8,
   "id": "0fb5e19d",
   "metadata": {},
   "outputs": [
    {
     "name": "stdout",
     "output_type": "stream",
     "text": [
      "1967\n"
     ]
    }
   ],
   "source": [
    "console.log(  birthday.getFullYear() );"
   ]
  },
  {
   "cell_type": "markdown",
   "id": "ed8f4a3d",
   "metadata": {},
   "source": [
    "### Get Month"
   ]
  },
  {
   "cell_type": "code",
   "execution_count": 9,
   "id": "4cb6a187",
   "metadata": {},
   "outputs": [
    {
     "name": "stdout",
     "output_type": "stream",
     "text": [
      "8\n"
     ]
    }
   ],
   "source": [
    "console.log(  birthday.getMonth() );"
   ]
  },
  {
   "cell_type": "markdown",
   "id": "1705e88d",
   "metadata": {},
   "source": [
    "### Local Formats"
   ]
  },
  {
   "cell_type": "code",
   "execution_count": 10,
   "id": "170a65d0",
   "metadata": {},
   "outputs": [
    {
     "name": "stdout",
     "output_type": "stream",
     "text": [
      "9/14/1967, 2:48:12 PM\n"
     ]
    }
   ],
   "source": [
    "console.log(  birthday.toLocaleString() );       // -> \"2/1/2013 7:37:08 AM\""
   ]
  },
  {
   "cell_type": "code",
   "execution_count": 11,
   "id": "509a3f26",
   "metadata": {},
   "outputs": [
    {
     "name": "stdout",
     "output_type": "stream",
     "text": [
      "9/14/1967\n"
     ]
    }
   ],
   "source": [
    "console.log(  birthday.toLocaleDateString() );   // -> \"2/1/2013\""
   ]
  },
  {
   "cell_type": "code",
   "execution_count": 12,
   "id": "22c8e5e4",
   "metadata": {},
   "outputs": [
    {
     "name": "stdout",
     "output_type": "stream",
     "text": [
      "2:48:12 PM\n"
     ]
    }
   ],
   "source": [
    "console.log(  birthday.toLocaleTimeString() );  // -> \"7:38:05 AM\""
   ]
  },
  {
   "cell_type": "code",
   "execution_count": null,
   "id": "749a7090",
   "metadata": {},
   "outputs": [],
   "source": []
  }
 ],
 "metadata": {
  "kernelspec": {
   "display_name": "Javascript (Node.js)",
   "language": "javascript",
   "name": "javascript"
  },
  "language_info": {
   "file_extension": ".js",
   "mimetype": "application/javascript",
   "name": "javascript",
   "version": "14.18.0"
  }
 },
 "nbformat": 4,
 "nbformat_minor": 5
}
